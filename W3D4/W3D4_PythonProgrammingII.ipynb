{
 "cells": [
  {
   "cell_type": "markdown",
   "id": "85390edc-49a7-43c9-8e2e-164af4cb3e61",
   "metadata": {},
   "source": [
    "<table>\n",
    "  <tr>\n",
    "    <td style=\"text-align: left;\">\n",
    "      <h1>Lighthouse Labs</h1>\n",
    "      <h2>W3D4 - Python Programming II</h2>\n",
    "      <strong>Instructor:</strong> Socorro E. Dominguez-Vidana\n",
    "    </td>\n",
    "    <td style=\"text-align: right;\">\n",
    "      <img src=\"img/lhl.jpeg\" alt=\"LHL\" width=\"200\">\n",
    "    </td>\n",
    "  </tr>\n",
    "</table>"
   ]
  },
  {
   "cell_type": "markdown",
   "id": "c40f081f-b88b-417d-8769-d08efc89423e",
   "metadata": {},
   "source": [
    "[![Binder](https://mybinder.org/badge_logo.svg)](https://mybinder.org/v2/gh/sedv8808/LHL_Lectures/main?labpath=W3D4%2FW3D4_PythonProgrammingII.ipynb)"
   ]
  },
  {
   "cell_type": "markdown",
   "id": "e7e196a6-9a3f-47ed-81e3-2fc04fee737a",
   "metadata": {
    "jp-MarkdownHeadingCollapsed": true
   },
   "source": [
    "#### Overview\n",
    "\n",
    "- [] Python user-defined functions (45 min)\n",
    "- [] Best practices of user-defined functions (15 min)\n",
    "- [] Give one or two examples of user-defined functions that incorporates various data types, error handling, and control flow structures (15 min)\n",
    "- [] Sets (15 min)\n",
    "- [] Survey when to use lists, dictionaries, tuples and sets (15 min)\n",
    "- [] Discussion about specific Python challenge (15 min)"
   ]
  },
  {
   "cell_type": "markdown",
   "id": "069d78e2-6ce5-4d7a-8b2a-07786fadf0ef",
   "metadata": {},
   "source": [
    "### Motivation for today: The DRY Principle"
   ]
  },
  {
   "cell_type": "markdown",
   "id": "80d56167-1728-4dcb-bcb4-f8b03b6fa5c6",
   "metadata": {},
   "source": [
    "**Don't Repeat Yourself** (The DRY Principle)\n",
    "\n",
    "- The DRY principle encourages writing code in a way that avoids repetition.\n",
    "- Every piece of knowledge or logic in your code should have a single, unambiguous, and authoritative representation.\n",
    "- Prevents Redundancy: Repeated code increases the chances of introducing bugs and inconsistencies.\n",
    "- Improves Maintainability: When code changes, you only need to update it in one place.\n",
    "- Increases Readability: Clean, concise code is easier to understand."
   ]
  },
  {
   "cell_type": "markdown",
   "id": "0aa9b4f6-46f6-4de2-b10c-d992f258fe00",
   "metadata": {},
   "source": [
    "#### Introduction to Functions"
   ]
  },
  {
   "cell_type": "markdown",
   "id": "992d4806-c9c6-4968-8648-45d63868f21d",
   "metadata": {},
   "source": [
    "##### Mathematical Origins\n",
    "\n",
    "> In mathematics, a function is a relation that takes an input (or several inputs) and produces an output.\n",
    "\n",
    "**Example**:\n",
    "\n",
    "In mathematics, we represent a function typically like this:\n",
    "\n",
    "A function $z = f(x,y)$  \n",
    "might take $x = 2, y = 3$  \n",
    "and return $f(2, 3) = 6$ equivalent to $z = 6$\n",
    "\n",
    "* $z$ is the output.\n",
    "* $x$ and $y$ are the inputs.\n",
    "* $f()$ represents \"what happens\" in the function."
   ]
  },
  {
   "cell_type": "markdown",
   "id": "5e67a389-4a82-45d2-ad8f-80f41a9a146b",
   "metadata": {},
   "source": [
    "##### Functions in Programming\n",
    "\n",
    "> In programming, functions also take inputs (called arguments or parameters) and return outputs.\n",
    "\n",
    "Just like in math, a **programming function** defines a relationship between the inputs and the output.\n",
    "\n",
    "**Programming functions** can perform much more complex operations and can return multiple outputs or perform actions rather than just calculations.\n",
    "\n",
    "> A function is a block of **organized**, **reusable** code that is used to perform an action and may return none or multiple outputs.\n",
    "\n",
    "Functions:\n",
    "- Save time by reusing code\n",
    "- Make code easier to read and maintain\n",
    "- Allow for modular programming"
   ]
  },
  {
   "cell_type": "markdown",
   "id": "04bd2033-e1e7-48c7-83b0-6fd579200f05",
   "metadata": {},
   "source": [
    "#### Built-in Functions: The Starting Point\n",
    "\n",
    "- Python provides a set of built-in functions that are available to use without importing any additional modules.\n",
    "\n",
    "- Built-in functions offer a starting point for all programmers, providing a set of reliable tools to perform common tasks.\n",
    "\n",
    "- They encapsulate complex logic, making your code simpler and more efficient."
   ]
  },
  {
   "cell_type": "markdown",
   "id": "ed80d7d0-77b3-4833-8c3b-0edbc7c8604d",
   "metadata": {},
   "source": [
    "**Use Case:** Imagine you’re working in Excel, and every time you need to add up a column of numbers, you had to manually sum each cell by hand. You’d have to type out formulas for every single cell like `=A1+B1+C1...`, repeating the same process over and over.\n",
    "\n",
    "![](img/sales.png)\n",
    "\n",
    "But Excel’s creators realized that tasks like summing values are extremely common, so they built the `SUM` function into the software. \n",
    "\n",
    "Instead of writing out a long formula you can use `=SUM(A1:E1)` to get the total. It saves time, reduces the chance of errors, and makes your spreadsheets cleaner.\n",
    "\n",
    "![](img/sales2.png)"
   ]
  },
  {
   "cell_type": "markdown",
   "id": "dac941d3-c47e-4951-be94-c7ee19d62e4a",
   "metadata": {},
   "source": [
    "This is the same idea behind **built-in** functions in Python. Just like Excel provides tools like **SUM** to simplify common tasks, Python provides built-in **functions** like `print()` and `len()` so you don’t have to reinvent the wheel for everyday operations. \n",
    "\n",
    "Code becomes more **concise**, **readable**, and **efficient**.\n",
    "\n",
    "Where to find built-in functions? **[Python Documentation](https://docs.python.org/3/library/functions.html)**"
   ]
  },
  {
   "cell_type": "code",
   "execution_count": null,
   "id": "0aca7cbb-9076-482c-9fea-1dfa1ed89389",
   "metadata": {},
   "outputs": [],
   "source": [
    "globals()"
   ]
  },
  {
   "cell_type": "markdown",
   "id": "214c5ee9-06a2-49d2-9e21-5e542866bc6c",
   "metadata": {},
   "source": [
    "**Built-in functions** offer a starting point for all programmers, providing a set of reliable tools to perform common tasks. But they are not enough.\n",
    "\n",
    "- Built-in functions cover common tasks, but every project is unique and you'll need more specific logic.\n",
    "\n",
    "**Solution:** Write your own **custom** functions!\n",
    "Custom functions allow you to tailor code to your exact needs, making it easier to manage complex projects."
   ]
  },
  {
   "cell_type": "markdown",
   "id": "c934cf22-f75c-48c4-95c0-10a8ec891bff",
   "metadata": {},
   "source": [
    "#### User-Defined Functions: Tailoring Code to Your Needs\n",
    "\n",
    "How do we write a custom function?\n",
    "\n",
    "Syntax:\n",
    "```python\n",
    "def function_name(inputs):\n",
    "    \"\"\"\n",
    "    Docstring: Describes what the function does.\n",
    "    \"\"\"\n",
    "    # Set of instructions\n",
    "    output = inputs * 3\n",
    "    return output\n",
    "```\n",
    "\n",
    "- `def`: **Keyword** that signals the start of a function definition. \n",
    "\n",
    "- `function_name`: Choose a **descriptive** name for your function. This name should relate to what the function does. Just like variables, function names should be **meaningful**.\n",
    "\n",
    "- `inputs`: These are the values or parameters your function will take as input. They can be `numbers`, `strings`, `lists`, or other data types. Your function will manipulate these inputs in some way to produce a result.\n",
    "\n",
    "- `Docstring`: The docstring **describes** what the function does, its inputs, and its expected output. It helps others (and yourself!) understand the purpose of the function, especially when returning to the code later. It’s enclosed in triple quotes (`\"\"\"`).\n",
    "\n",
    "- `Set of Instructions`: Inside the function, you write the code that performs the operation. In this case, the input is multiplied by `3`.\n",
    "\n",
    "- `return`: **Keyword** that specifies the output of the function. It tells Python what value the function should produce after processing the input. This value is what you'll get when you call the function elsewhere in your code. If not used, the function will return `None`."
   ]
  },
  {
   "cell_type": "markdown",
   "id": "1638086a-ac7d-4570-8ff6-f25a26b363dd",
   "metadata": {},
   "source": [
    "##### Example of a User-Defined Function\n",
    "\n",
    "*C-F Temperature Converter* \n",
    "\n",
    "Formula: $\\frac{9}{5}C + 32$"
   ]
  },
  {
   "cell_type": "code",
   "execution_count": null,
   "id": "f43f7eaa-dcc6-4fe8-a7cd-5cb9785093d6",
   "metadata": {},
   "outputs": [],
   "source": [
    "celsius_temperatures = [10, 25, 15, 23, 20]"
   ]
  },
  {
   "cell_type": "markdown",
   "id": "369e0fc2-822f-4f5d-bf39-fdf0453a68da",
   "metadata": {},
   "source": [
    "I could do:"
   ]
  },
  {
   "cell_type": "code",
   "execution_count": null,
   "id": "c9ccfa46-4e6e-40a2-b23f-b9f667d5b0fc",
   "metadata": {},
   "outputs": [],
   "source": [
    "(10 * 9/5) + 32"
   ]
  },
  {
   "cell_type": "code",
   "execution_count": null,
   "id": "a59a684a-d362-4d94-b04a-83316a637311",
   "metadata": {},
   "outputs": [],
   "source": [
    "(25 * 9/5) + 32"
   ]
  },
  {
   "cell_type": "markdown",
   "id": "345e7538-b981-433b-a83f-26cc6ae199f6",
   "metadata": {},
   "source": [
    "and one by one...\n",
    "\n",
    "```python\n",
    "(15 * 9/5) + 32\n",
    "(23 * 9/5) + 32\n",
    "(20 * 9/5) + 32\n",
    "```\n",
    "\n",
    "Eventually, I will make a mistake... Or, what if I want to add new numbers?  \n",
    "To avoid errors and avoid writing one by one, let's make a function."
   ]
  },
  {
   "cell_type": "code",
   "execution_count": null,
   "id": "9c1ed495-5f92-4c6d-9616-fc193969a036",
   "metadata": {},
   "outputs": [],
   "source": [
    "def celsius_to_fahrenheit(celsius):\n",
    "    \"\"\"\n",
    "    This function converts a temperature from Celsius to Fahrenheit.\n",
    "    \n",
    "    Parameters:\n",
    "    celsius (float): Temperature in degrees Celsius.\n",
    "\n",
    "    Returns:\n",
    "    float: Temperature converted to degrees Fahrenheit.\n",
    "    \"\"\"\n",
    "    fahrenheit = (celsius * 9/5) + 32\n",
    "    return fahrenheit # Mention what happens if there is no return statement."
   ]
  },
  {
   "cell_type": "code",
   "execution_count": null,
   "id": "4c4d6779-2aa9-4038-aec5-17bd73497aa7",
   "metadata": {},
   "outputs": [],
   "source": [
    "celsius_to_fahrenheit(18)"
   ]
  },
  {
   "cell_type": "code",
   "execution_count": null,
   "id": "493219e3-8061-4ee7-905d-276f22a61781",
   "metadata": {},
   "outputs": [],
   "source": [
    "fahrenheit_temperatures = [celsius_to_fahrenheit(temperature) for temperature in celsius_temperatures]\n",
    "fahrenheit_temperatures"
   ]
  },
  {
   "cell_type": "markdown",
   "id": "08da3ea5-9a26-47db-88b6-55276d3e41a1",
   "metadata": {},
   "source": [
    "**Exercise:** Write a Function to Square a Number $f(x)=x^2$ (7 min)"
   ]
  },
  {
   "cell_type": "markdown",
   "id": "98ece963-3c73-419d-b8bb-08679726c06b",
   "metadata": {},
   "source": [
    "#### Introduction to Error Handling\n",
    "\n",
    "![img](img/Fun_with_Celsius.jpg)\n",
    "[Taylor, M. (2011, August 3). Fun with Celsius. Mormon Cartoonist.](http://www.mormoncartoonist.com/2011/08/fun-with-celsius.html)"
   ]
  },
  {
   "cell_type": "markdown",
   "id": "4ed76a65-9155-40d1-98b3-572c01546b38",
   "metadata": {},
   "source": [
    "Errors can arise in unexpected ways:\n",
    "- wrong inputs\n",
    "- impossible values\n",
    "- logical mistakes\n",
    "\n",
    "We need to handle these bugs before they turn simple programs into a nightmare."
   ]
  },
  {
   "cell_type": "code",
   "execution_count": null,
   "id": "c212eebf-4ae0-48bc-adbf-01b6694183a6",
   "metadata": {},
   "outputs": [],
   "source": [
    "celsius_to_fahrenheit(-500)"
   ]
  },
  {
   "cell_type": "markdown",
   "id": "95604d97-805e-46ee-9c90-a1191753927a",
   "metadata": {},
   "source": [
    "That would be... beyond freezing..."
   ]
  },
  {
   "cell_type": "markdown",
   "id": "a04c8aa1-90f7-40bf-bf45-53977e9abc40",
   "metadata": {},
   "source": [
    "##### Potential Errors in Temperature Conversion\n",
    "\n",
    "Let's think about the kinds of issues that might pop up when converting temperatures:\n",
    "\n",
    "- **Invalid Input Type***: What if someone enters text instead of a number?\n",
    "- **Impossible Temperatures**: For example, temperatures below absolute zero (-273.15°C) don’t physically exist. \n",
    "- **Incorrect Units**: If someone’s working in Kelvin, we’ll get wrong results unless we handle it properly."
   ]
  },
  {
   "cell_type": "markdown",
   "id": "eb2e7ddd-d390-4cbb-82f4-b1bb74a1393f",
   "metadata": {},
   "source": [
    "###### Adding `assert` for Input Validation\n",
    "\n",
    "- Let's make sure that the input is a number. If someone tries to pass a string like \"twenty,\" the program will break.\n",
    "- We can use an `assert` statement. It checks that the condition is `True`, otherwise, we pass a message to the user:\n",
    "```python\n",
    "assert isinstance(celsius, (int, float)), \"Input must be a numeric value.\"\n",
    "```"
   ]
  },
  {
   "cell_type": "code",
   "execution_count": null,
   "id": "742204cc-aeda-4d8f-8094-9e813341a501",
   "metadata": {},
   "outputs": [],
   "source": [
    "assert isinstance(2, (int, float)), \"Input must be a numeric value.\""
   ]
  },
  {
   "cell_type": "code",
   "execution_count": null,
   "id": "a089a0c0-61ca-4312-be39-66d50f0cb949",
   "metadata": {},
   "outputs": [],
   "source": [
    "def celsius_to_fahrenheit(celsius):\n",
    "    \"\"\"\n",
    "    This function converts a temperature from Celsius to Fahrenheit.\n",
    "    \n",
    "    Parameters:\n",
    "    celsius (float): Temperature in degrees Celsius.\n",
    "\n",
    "    Returns:\n",
    "    float: Temperature converted to degrees Fahrenheit.\n",
    "    \"\"\"\n",
    "    assert isinstance(celsius, (int, float)), \"Input must be a numeric value.\"\n",
    "    fahrenheit = (celsius * 9/5) + 32\n",
    "    return fahrenheit"
   ]
  },
  {
   "cell_type": "code",
   "execution_count": null,
   "id": "e916e232-4bcf-4a08-a805-940a11802716",
   "metadata": {},
   "outputs": [],
   "source": [
    "celsius_to_fahrenheit(4)"
   ]
  },
  {
   "cell_type": "code",
   "execution_count": null,
   "id": "683721e3-1c5b-47c7-a3a3-fed21822e83d",
   "metadata": {},
   "outputs": [],
   "source": [
    "#celsius_to_fahrenheit('4')"
   ]
  },
  {
   "cell_type": "markdown",
   "id": "83268723-8625-41f4-9ce4-fbcbaa8dd562",
   "metadata": {},
   "source": [
    "###### Handling Impossible Temperatures with `raise`\n",
    "\n",
    "- Next, let's handle logically impossible temperatures. In physics, we know temperatures can’t go below absolute zero (`-273.15°C`). If someone tries to convert `-300°C`, we need to catch that:\n",
    "\n",
    "```python\n",
    "raise ValueError(\"Temperature cannot be below absolute zero (-273.15°C).\")\n",
    "```\n",
    "\n",
    "Common Errors include:\n",
    "- **ValueError**: A function receives an argument of the correct type but with an inappropriate value.\n",
    "- **TypeError**: An operation or function is applied to an object of an inappropriate type.\n",
    "- **KeyError**: A dictionary key is not found.\n",
    "- **IndexError**: An index that is out of range in a list or another indexable collection.\n",
    "- Others: See [documentation](https://docs.python.org/3/tutorial/errors.html#raising-exceptions)\n",
    "- Custom Errors"
   ]
  },
  {
   "cell_type": "code",
   "execution_count": null,
   "id": "8eec065a-6f1b-4843-9da1-2ef44ff1127d",
   "metadata": {},
   "outputs": [],
   "source": [
    "#raise ValueError(\"Temperature cannot be below absolute zero (-273.15°C).\")"
   ]
  },
  {
   "cell_type": "code",
   "execution_count": null,
   "id": "f1dd3db6-5014-4c85-b792-190786af2f7e",
   "metadata": {},
   "outputs": [],
   "source": [
    "def celsius_to_fahrenheit(celsius):\n",
    "    \"\"\"\n",
    "    This function converts a temperature from Celsius to Fahrenheit.\n",
    "    \n",
    "    Parameters:\n",
    "    celsius (float): Temperature in degrees Celsius.\n",
    "\n",
    "    Returns:\n",
    "    float: Temperature converted to degrees Fahrenheit.\n",
    "    \"\"\"\n",
    "    assert isinstance(celsius, (int, float)), \"Input must be a numeric value.\"\n",
    "    \n",
    "    if celsius < -273.15:\n",
    "        raise ValueError(\"Temperature cannot be below absolute zero (-273.15°C).\")\n",
    "        \n",
    "    fahrenheit = (celsius * 9/5) + 32\n",
    "    return fahrenheit"
   ]
  },
  {
   "cell_type": "code",
   "execution_count": null,
   "id": "43ff2003-790d-4a4b-997e-783ee1eeaea7",
   "metadata": {},
   "outputs": [],
   "source": [
    "#celsius_to_fahrenheit(-300)"
   ]
  },
  {
   "cell_type": "markdown",
   "id": "83dbbd7a-0000-4dbb-8b0c-4868f62529dd",
   "metadata": {},
   "source": [
    "##### Handling Unexpected Encounters with `try-except`\n",
    "\n",
    "- When creating functions, try to anticipate how users might interact with them.\n",
    "- Even a well-designed function can encounter unexpected inputs or conditions that lead to errors. \n",
    "- Sometimes, you do not want the software to crash, instead you would want the code to continue running.\n",
    "- By wrapping our function call in a `try` and `except` block, we can handle these issues gracefully, ensuring that our program remains robust and user-friendly.\n",
    "\n",
    "Imagine a new set of temperatures:"
   ]
  },
  {
   "cell_type": "code",
   "execution_count": null,
   "id": "d5d0c22c-c386-41d2-95d2-8511c224561f",
   "metadata": {},
   "outputs": [],
   "source": [
    "temperatures = [10, -300, 'twenty', 20]"
   ]
  },
  {
   "cell_type": "code",
   "execution_count": null,
   "id": "656c537d-c3ef-44d0-a8c5-b668394cb295",
   "metadata": {},
   "outputs": [],
   "source": [
    "converted_temperatures = []\n",
    "for temp in temperatures:\n",
    "    try:\n",
    "        converted_temp = celsius_to_fahrenheit(temp)\n",
    "    except (AssertionError, ValueError) as e:\n",
    "        print(f\"Error processing temperature {temp}: {e}\")\n",
    "        converted_temp = None\n",
    "    except Exception as e:\n",
    "        print(f\"An unexpected error occurred with temperature {temp}: {e}\")\n",
    "        converted_temp = None\n",
    "\n",
    "    converted_temperatures.append(converted_temp)"
   ]
  },
  {
   "cell_type": "code",
   "execution_count": null,
   "id": "81a07bee-fa01-40a1-98c3-3c2978e2c4a5",
   "metadata": {},
   "outputs": [],
   "source": [
    "converted_temperatures"
   ]
  },
  {
   "cell_type": "markdown",
   "id": "947ddb6d-e1d6-4a71-abd2-5b2e96edd0e1",
   "metadata": {},
   "source": [
    "The way the function is written, would not allow me to do list comprehension. But I could modify the function with `try-except` chunks so that I could use list comprehension too:"
   ]
  },
  {
   "cell_type": "code",
   "execution_count": null,
   "id": "cdcefa68-fce6-4aa8-a822-c154e67afaff",
   "metadata": {},
   "outputs": [],
   "source": [
    "def celsius_to_fahrenheit(celsius):\n",
    "    \"\"\"\n",
    "    This function converts a temperature from Celsius to Fahrenheit.\n",
    "    \n",
    "    Parameters:\n",
    "    celsius (float): Temperature in degrees Celsius.\n",
    "\n",
    "    Returns:\n",
    "    float: Temperature converted to degrees Fahrenheit.\n",
    "    \"\"\"\n",
    "    try:\n",
    "        assert isinstance(celsius, (int, float)), \"Input must be a numeric value.\"\n",
    "        \n",
    "        if temp < -273.15:\n",
    "            raise ValueError(\"Temperature cannot be below absolute zero (-273.15°C).\")\n",
    "        \n",
    "        fahrenheit = (celsius * 9/5) + 32\n",
    "        return fahrenheit\n",
    "\n",
    "    except AssertionError as e:\n",
    "        print(f\"Error: {e}\")\n",
    "        return None\n",
    "\n",
    "    except ValueError as e:\n",
    "        print(f\"Error: {e}\")\n",
    "        return None\n",
    "\n",
    "    except Exception as e:\n",
    "        print(f\"An unexpected error occurred: {e}\")\n",
    "        return None"
   ]
  },
  {
   "cell_type": "code",
   "execution_count": null,
   "id": "15b8ab8d-d85f-47b8-9cbe-ecfca943ee64",
   "metadata": {},
   "outputs": [],
   "source": [
    "temperatures = [10, -300, 'twenty', 20]"
   ]
  },
  {
   "cell_type": "code",
   "execution_count": null,
   "id": "8aa46c2e-585c-44d3-9d70-3f8ffc544193",
   "metadata": {},
   "outputs": [],
   "source": [
    "converted_temperatures = [celsius_to_fahrenheit(temperature) for temperature in temperatures]"
   ]
  },
  {
   "cell_type": "code",
   "execution_count": null,
   "id": "6ccf2915-5522-4134-be31-77a899c64a7c",
   "metadata": {},
   "outputs": [],
   "source": [
    "converted_temperatures"
   ]
  },
  {
   "cell_type": "markdown",
   "id": "ccbee261-11a3-4450-9b44-87b8bf940e29",
   "metadata": {},
   "source": [
    "### Sets"
   ]
  },
  {
   "cell_type": "markdown",
   "id": "8a809b5c-e8e8-4698-8731-d9629ca469c2",
   "metadata": {},
   "source": [
    "> A set is an unordered collection of unique items.\n",
    "Defined using curly braces `{}` or the `set()` function.\n"
   ]
  },
  {
   "cell_type": "markdown",
   "id": "91e5842d-f508-4697-b6d1-3e33dcc3b01d",
   "metadata": {},
   "source": [
    "#### Characteristics of Sets\n",
    "- **Unordered**: The items in a set do not have a specific order.\n",
    "- **Unique Elements**: Sets automatically eliminate duplicate entries.\n",
    "- **Mutable**: You can add or remove items from a set after its creation.\n",
    "- **Support for Mathematical Operations**: Sets can be used for union, intersection, and difference operations."
   ]
  },
  {
   "cell_type": "code",
   "execution_count": null,
   "id": "47e9daeb-47c6-4415-9705-2d18913c0e82",
   "metadata": {},
   "outputs": [],
   "source": [
    "my_set = {1, 2, 3}\n",
    "another_set = set([3, 4, 5, 3])"
   ]
  },
  {
   "cell_type": "code",
   "execution_count": null,
   "id": "a7e4a2c6-05f3-43b0-a058-073b1409ec4f",
   "metadata": {},
   "outputs": [],
   "source": [
    "another_set"
   ]
  },
  {
   "cell_type": "markdown",
   "id": "96b6c45e-89f8-430c-8e91-311bdb884952",
   "metadata": {},
   "source": [
    "##### Set Operations"
   ]
  },
  {
   "cell_type": "code",
   "execution_count": null,
   "id": "6fea1617-09ed-4d34-9b5f-8c1861fdf3b5",
   "metadata": {},
   "outputs": [],
   "source": [
    "# Adding elements\n",
    "my_set.add(5)\n",
    "my_set"
   ]
  },
  {
   "cell_type": "code",
   "execution_count": null,
   "id": "7a4913a5-558e-4f0d-b68e-ab5bfb92af5d",
   "metadata": {},
   "outputs": [],
   "source": [
    "# Removing elements\n",
    "my_set.remove(3)\n",
    "my_set"
   ]
  },
  {
   "cell_type": "code",
   "execution_count": null,
   "id": "7d2f35a2-53de-4389-9243-f9c0400878d6",
   "metadata": {},
   "outputs": [],
   "source": [
    "# Mathematical Operations\n",
    "set_a = {1, 2, 3}\n",
    "set_b = {3, 4, 5}"
   ]
  },
  {
   "cell_type": "code",
   "execution_count": null,
   "id": "7eff03b9-bd1e-48ed-8e88-3b981ea2f78d",
   "metadata": {},
   "outputs": [],
   "source": [
    "union = set_a | set_b\n",
    "union"
   ]
  },
  {
   "cell_type": "code",
   "execution_count": null,
   "id": "f8ef4df4-21f9-4275-abc3-985f7fa83aaa",
   "metadata": {},
   "outputs": [],
   "source": [
    "intersection = set_a & set_b\n",
    "intersection"
   ]
  },
  {
   "cell_type": "code",
   "execution_count": null,
   "id": "1e28ef51-6d3f-40ac-abf5-d6183a501fe7",
   "metadata": {},
   "outputs": [],
   "source": [
    "difference = set_a - set_b\n",
    "difference"
   ]
  },
  {
   "cell_type": "markdown",
   "id": "001ff672-367c-4363-b0f1-17ccf6314eb6",
   "metadata": {},
   "source": [
    "##### Uses\n",
    "- Eliminating duplicates.\n",
    "- Sets provide faster membership tests than lists.\n",
    "- Simplify code and improve performance when doing mathematical operations.\n",
    "- Consider using sets when dealing with unique items, membership testing, or mathematical operations to improve performance."
   ]
  },
  {
   "cell_type": "markdown",
   "id": "e2b70c6e-bee8-4a39-b82e-8809bd2ae5cf",
   "metadata": {},
   "source": [
    "#### Challenge Time\n",
    "\n",
    "**Objective:** Create a function that takes two `dictionaries`. One dictionary will represent the items currently in a *pantry* and another representing the ingredients required for a *recipe*. \n",
    "\n",
    "The function should return a **shopping list** containing the items that need to be purchased."
   ]
  },
  {
   "cell_type": "code",
   "execution_count": null,
   "id": "11726637-22e8-4f8f-93a3-97420a766c77",
   "metadata": {},
   "outputs": [],
   "source": [
    "pantry = {'eggs': 6, 'milk': 1,  'flour': 0.5, 'sugar': 0.2}\n",
    "pantry"
   ]
  },
  {
   "cell_type": "code",
   "execution_count": null,
   "id": "98238dfc-bde4-4dcd-b62c-cbf22aa30f8e",
   "metadata": {},
   "outputs": [],
   "source": [
    "recipe = {'eggs': 3, 'milk': 0.5,  'flour': 1,  'butter': 0.1,  \n",
    "          'sugar': 0.3 }\n",
    "recipe"
   ]
  },
  {
   "cell_type": "code",
   "execution_count": null,
   "id": "5f629d58-da2b-4e80-a018-b500d1bdd93d",
   "metadata": {},
   "outputs": [],
   "source": [
    "def shopping_list_creator(pantry, recipe):\n",
    "    \"\"\"\n",
    "    \n",
    "    \"\"\"\n",
    "    shopping_list = {}  \n",
    "    \n",
    "    # Iterate over the recipe items\n",
    "    \n",
    "    # Calculate the remaining quantity needed\n",
    "    \n",
    "    # If the item is in the pantry, calculate the difference\n",
    "     \n",
    "    # If more is needed, add it to the shopping list\n",
    "    \n",
    "    return None\n"
   ]
  },
  {
   "cell_type": "markdown",
   "id": "597ee09c-7ff4-4688-bf4a-9e117002b062",
   "metadata": {},
   "source": [
    "**Discussion:**  \n",
    "Think of 3 `raise` and `assert` statements you could add to the function."
   ]
  }
 ],
 "metadata": {
  "kernelspec": {
   "display_name": "Python 3 (ipykernel)",
   "language": "python",
   "name": "python3"
  },
  "language_info": {
   "codemirror_mode": {
    "name": "ipython",
    "version": 3
   },
   "file_extension": ".py",
   "mimetype": "text/x-python",
   "name": "python",
   "nbconvert_exporter": "python",
   "pygments_lexer": "ipython3",
   "version": "3.11.4"
  }
 },
 "nbformat": 4,
 "nbformat_minor": 5
}
