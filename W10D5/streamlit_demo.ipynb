{
 "cells": [
  {
   "cell_type": "markdown",
   "metadata": {},
   "source": [
    "# <img src='media/streamlit.png' width=5% height=5%> Introduction to <span style='color: #ff4a4a;'>Streamlit</span>\n",
    "**Notebook authored by:** Siphu Langeni 🤓  \n",
    "**Read the docs** at [docs.streamlit.io](https://docs.streamlit.io/)\n",
    "\n",
    "## Agenda\n",
    "- What is Streamlit 🤔💭?\n",
    "- Sample notebook code\n",
    "- Writing your script\n",
    "- Testing locally\n",
    "- Deploying to community cloud"
   ]
  },
  {
   "cell_type": "markdown",
   "metadata": {},
   "source": [
    "## What is <span style='color: #ff4a4a;'>Streamlit</span>?"
   ]
  },
  {
   "cell_type": "markdown",
   "metadata": {},
   "source": [
    "**A faster way to build and share data apps**\n",
    "- <span style='color: #ff4a4a; font-weight: bold;'>quickly</span> turn scripts to web apps\n",
    "- pure <span style='color: #ff4a4a; font-weight: bold;'>python</span>\n",
    "- <span style='color: #ff4a4a; font-weight: bold;'>no front-end</span> experience required"
   ]
  },
  {
   "cell_type": "markdown",
   "metadata": {},
   "source": [
    "## Sample notebook code"
   ]
  },
  {
   "cell_type": "markdown",
   "metadata": {},
   "source": [
    "In this demo, we will use a `pipline` from `transformers` for sentiment analysis using a fine-tuned model from the 🤗HuggingFace hub. You could very easily substitute your own model if you have saved it there."
   ]
  },
  {
   "cell_type": "code",
   "execution_count": 1,
   "metadata": {},
   "outputs": [
    {
     "data": {
      "text/html": [
       "<div>\n",
       "<style scoped>\n",
       "    .dataframe tbody tr th:only-of-type {\n",
       "        vertical-align: middle;\n",
       "    }\n",
       "\n",
       "    .dataframe tbody tr th {\n",
       "        vertical-align: top;\n",
       "    }\n",
       "\n",
       "    .dataframe thead th {\n",
       "        text-align: right;\n",
       "    }\n",
       "</style>\n",
       "<table border=\"1\" class=\"dataframe\">\n",
       "  <thead>\n",
       "    <tr style=\"text-align: right;\">\n",
       "      <th></th>\n",
       "      <th>food_truck</th>\n",
       "      <th>review</th>\n",
       "    </tr>\n",
       "  </thead>\n",
       "  <tbody>\n",
       "    <tr>\n",
       "      <th>0</th>\n",
       "      <td>Frankly Fantastic</td>\n",
       "      <td>The service was slow and the staff seemed diso...</td>\n",
       "    </tr>\n",
       "    <tr>\n",
       "      <th>1</th>\n",
       "      <td>Tasty Tacolicious</td>\n",
       "      <td>The salsa bar had a great variety of options t...</td>\n",
       "    </tr>\n",
       "    <tr>\n",
       "      <th>2</th>\n",
       "      <td>Pizza Palooza</td>\n",
       "      <td>The variety of toppings available is impressive.</td>\n",
       "    </tr>\n",
       "    <tr>\n",
       "      <th>3</th>\n",
       "      <td>Pizza Palooza</td>\n",
       "      <td>Hands down the best pizza in town, never disap...</td>\n",
       "    </tr>\n",
       "    <tr>\n",
       "      <th>4</th>\n",
       "      <td>Frankly Fantastic</td>\n",
       "      <td>Ordered a specialty hotdog, but it was missing...</td>\n",
       "    </tr>\n",
       "  </tbody>\n",
       "</table>\n",
       "</div>"
      ],
      "text/plain": [
       "          food_truck                                             review\n",
       "0  Frankly Fantastic  The service was slow and the staff seemed diso...\n",
       "1  Tasty Tacolicious  The salsa bar had a great variety of options t...\n",
       "2      Pizza Palooza   The variety of toppings available is impressive.\n",
       "3      Pizza Palooza  Hands down the best pizza in town, never disap...\n",
       "4  Frankly Fantastic  Ordered a specialty hotdog, but it was missing..."
      ]
     },
     "execution_count": 1,
     "metadata": {},
     "output_type": "execute_result"
    }
   ],
   "source": [
    "import pandas as pd\n",
    "\n",
    "df = pd.read_csv('demo/food_truck_reviews.tsv', sep='\\t')\n",
    "df.head()"
   ]
  },
  {
   "cell_type": "code",
   "execution_count": 2,
   "metadata": {},
   "outputs": [
    {
     "data": {
      "text/plain": [
       "food_truck\n",
       "Frankly Fantastic    10\n",
       "Tasty Tacolicious    10\n",
       "Pizza Palooza        10\n",
       "Name: count, dtype: int64"
      ]
     },
     "execution_count": 2,
     "metadata": {},
     "output_type": "execute_result"
    }
   ],
   "source": [
    "df['food_truck'].value_counts()"
   ]
  },
  {
   "cell_type": "code",
   "execution_count": 3,
   "metadata": {},
   "outputs": [],
   "source": [
    "from transformers import pipeline"
   ]
  },
  {
   "cell_type": "code",
   "execution_count": 4,
   "metadata": {},
   "outputs": [
    {
     "name": "stderr",
     "output_type": "stream",
     "text": [
      "Device set to use mps:0\n"
     ]
    }
   ],
   "source": [
    "# create a pipeline object for inference\n",
    "pipe = pipeline(\n",
    "    task='sentiment-analysis', # this is an alias for 'text-classification'\n",
    "    model='distilbert-base-uncased-finetuned-sst-2-english' # this is where you can insert your model from the hub\n",
    ")"
   ]
  },
  {
   "cell_type": "code",
   "execution_count": 5,
   "metadata": {},
   "outputs": [],
   "source": [
    "# sample reviews to pass to our model\n",
    "sample_reviews = [\n",
    "    \"I wasn't sure what to expect because of all the mixed reviews. Surprisingly, the food awfully good!\",\n",
    "    \"I don't see myself ever go back there again.\",\n",
    "    \"Hell yeah!!!\",\n",
    "    \"If it was the last food truck on earth, I guess I'd have to starve.\"\n",
    "]"
   ]
  },
  {
   "cell_type": "code",
   "execution_count": 6,
   "metadata": {},
   "outputs": [
    {
     "data": {
      "text/plain": [
       "[{'label': 'POSITIVE', 'score': 0.9997702240943909},\n",
       " {'label': 'NEGATIVE', 'score': 0.9953279495239258},\n",
       " {'label': 'POSITIVE', 'score': 0.9965959191322327},\n",
       " {'label': 'NEGATIVE', 'score': 0.999342143535614}]"
      ]
     },
     "execution_count": 6,
     "metadata": {},
     "output_type": "execute_result"
    }
   ],
   "source": [
    "# produces a list of dicts with 'label' and 'score' keys\n",
    "pipe(sample_reviews)"
   ]
  },
  {
   "cell_type": "markdown",
   "metadata": {},
   "source": [
    "## Writing your script"
   ]
  },
  {
   "cell_type": "markdown",
   "metadata": {},
   "source": [
    "It's great to prototype in a notebook **BUT** pushing to <span style='color: #ff4a4a;'>Streamlit</span> requires your code to be in a `.py` file.  \n",
    "- Spend time thinking about what to include in your app\n",
    "    - pages?\n",
    "    - visualizations?\n",
    "    - classes/methods?\n",
    "- **DRY!** 😅 Aim for modular code \n",
    "- Practice good file management\n",
    "\n",
    "<details>\n",
    "    <summary>Directory Tree</summary>\n",
    "    \n",
    "```\n",
    "\n",
    "├── demo\n",
    "│   ├── Hello.py\n",
    "│   ├── food_truck_reviews.tsv\n",
    "│   ├── pages\n",
    "│   │   ├── 1_Take_the_model_for_a_spin.py\n",
    "│   │   └── 2_How_about_some_analytics.py\n",
    "│   └── utils.py\n",
    "├── media\n",
    "│   ├── deploy.mp4\n",
    "│   ├── run_on_save.png\n",
    "│   └── streamlit.png\n",
    "├── requirements.txt\n",
    "└── streamlit_demo.ipynb\n",
    "```\n",
    "\n",
    "</details  \n",
    "\n"
   ]
  },
  {
   "cell_type": "markdown",
   "metadata": {},
   "source": [
    "## Testing locally"
   ]
  },
  {
   "cell_type": "markdown",
   "metadata": {},
   "source": [
    "- Create a file called `app.py`  \n",
    "- At minimum, import Strealit and save\n",
    "```python\n",
    "import streamlit as st\n",
    "```\n",
    "- Run the following in the command line:\n",
    "    - This will depend on your `pwd` relative to your app location \n",
    "    - This will open a browser tab on `localhost:XXXX`\n",
    "  \n",
    "```bash\n",
    "streamlit run demo/Hello.py\n",
    "```  \n",
    "     \n",
    "- On the top left, click on the **kebab menu > Settings > ✅ the Run on save option**  \n",
    "    - This ensures that your app updates live each time you save\n",
    "\n",
    "<img src='media/run_on_save.png' width=50% height=50%> \n"
   ]
  },
  {
   "cell_type": "markdown",
   "metadata": {},
   "source": [
    "## Deploying to community cloud"
   ]
  },
  {
   "cell_type": "markdown",
   "metadata": {},
   "source": [
    "If you want to persist your app and share it with others, you can make use of the unlimited (public) apps in the community cloud. \n",
    "To do so, you will need to push all your code to a GitHub repo. Deployment can happen from any branch of your choosing and automatically \n",
    "updates when you commit. At the time of this notebook, free accounts can only have one private app from one private repo."
   ]
  },
  {
   "cell_type": "markdown",
   "metadata": {},
   "source": [
    "<video width=40% src='media/deploy.mp4' controls> </video>  \n",
    "\n",
    "Credit: [streamlit.io/cloud](https://streamlit.io/cloud)"
   ]
  },
  {
   "cell_type": "code",
   "execution_count": null,
   "metadata": {},
   "outputs": [],
   "source": []
  }
 ],
 "metadata": {
  "kernelspec": {
   "display_name": ".venv",
   "language": "python",
   "name": ".venv"
  },
  "language_info": {
   "codemirror_mode": {
    "name": "ipython",
    "version": 3
   },
   "file_extension": ".py",
   "mimetype": "text/x-python",
   "name": "python",
   "nbconvert_exporter": "python",
   "pygments_lexer": "ipython3",
   "version": "3.11.10"
  }
 },
 "nbformat": 4,
 "nbformat_minor": 4
}
