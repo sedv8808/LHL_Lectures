{
 "cells": [
  {
   "cell_type": "markdown",
   "id": "f9d2aadb-0ce3-4514-ba00-ce1059c22c45",
   "metadata": {},
   "source": [
    "<table>\n",
    "  <tr>\n",
    "    <td style=\"text-align: left;\">\n",
    "      <h1>Lighthouse Labs</h1>\n",
    "      <h2>W2D5 - Analyzing Data</h2>\n",
    "      <strong>Instructor:</strong> Socorro E. Dominguez-Vidana\n",
    "    </td>\n",
    "    <td style=\"text-align: right;\">\n",
    "      <img src=\"img/lhl.jpeg\" alt=\"LHL\" width=\"200\">\n",
    "    </td>\n",
    "  </tr>\n",
    "</table>"
   ]
  },
  {
   "cell_type": "markdown",
   "id": "e3a89ca0-66f8-4def-ae5c-c1e74fffdfe9",
   "metadata": {},
   "source": [
    "Follow with [![Binder](https://mybinder.org/badge_logo.svg)](https://mybinder.org/v2/gh/sedv8808/LHL_Lectures/main?labpath=W2D5%2FW2D5_Analyzing_Data.ipynb)"
   ]
  },
  {
   "cell_type": "markdown",
   "id": "548b754f-c855-494e-8c3c-4ccd945d1ef5",
   "metadata": {},
   "source": [
    "#### Overview\n",
    "\n",
    "- [] What is Data Analysis\n",
    "- [] Aggregate Functions in `SQL`\n",
    "- [] The `HAVING` clause\n",
    "- [] Examples"
   ]
  },
  {
   "cell_type": "markdown",
   "id": "182a36c7-524c-4164-8605-eacaad65795b",
   "metadata": {},
   "source": [
    "### Data Analysis\n",
    "\n",
    "Turning *raw data* into *meaninful insights*.\n",
    "> Data analysis is the process of **examining**, **cleaning**, **transforming**, and **interpreting** data to find useful information, suggest conclusions, and support decision-making.\n",
    "\n",
    "### The Data Analysis Cycle\n",
    "\n",
    "1. Data Question/Problem:\n",
    "- Start with a clear question or problem to solve.\n",
    "- Example: \"Which products are performing best this quarter?\"\n",
    "- A well-defined problem guides the entire analysis and ensures focus.\n",
    "\n",
    "2. Data Collection:\n",
    "- Gather the data needed to answer the question (from databases, APIs, surveys, etc.).\n",
    "\n",
    "3. Data Cleaning:\n",
    "- Remove duplicates\n",
    "- Handle missing values\n",
    "- Correct inconsistencies in the dataset.\n",
    "\n",
    "4. Data Transformation:\n",
    "- Format data for consistency.\n",
    "- Convert data into the right format or structure for analysis (e.g., normalization, **aggregation**).\n",
    "- Create new features or categories relevant to the problem.\n",
    "\n",
    "5. Data Analysis:\n",
    "- Perform statistical or machine learning methods to explore patterns, relationships, and trends.\n",
    "- Methods vary depending on the **type of data** and **question**:\n",
    "\n",
    "| **Type of Question**    | **Technique to Use**        | **Example**                |\n",
    "|--------------------|--------------------|-------------------------------------|\n",
    "| What are the patterns or trends in my data? | Exploratory Data Analysis (EDA)              | Use visualizations like bar charts or line plots to examine sales trends over time. |\n",
    "| Is there a relationship between variables?  | Correlation or Regression Analysis           | Analyze if there's a correlation between marketing spend and customer acquisition. |\n",
    "| How can I predict future outcomes?          | Predictive Modeling (Regression, Classification) | Build a regression model to predict future sales based on historical data. |\n",
    "| What groups or segments exist in my data?   | Clustering (K-means, Hierarchical Clustering) | Use K-means clustering to segment customers into different behavior groups. |\n",
    "| What factors are the most important?        | Feature Importance (Decision Trees, Random Forest) | Use a decision tree to identify which factors most influence customer churn. |\n",
    "| What are the probabilities of an event?     | Probability Models (Logistic Regression)     | Use logistic regression to predict the probability of a customer churning. |\n",
    "\n",
    "\n",
    "6. Insights & Interpretation:\n",
    "- Interpret the results, connect them to the original problem, and make data-driven decisions.\n",
    "- The goal is to transform results into actionable insights.\n",
    "- Example:  \n",
    "    a) **Insight**: \"Our best-performing product is X.\"  \n",
    "\tb) **Decision**: \"Increase production and marketing budget for Product X.\"\n",
    "- Communicate insights clearly with visuals (graphs, charts) and actionable recommendations.\n"
   ]
  },
  {
   "cell_type": "markdown",
   "id": "e25150c8-451c-492e-95b7-6026e0a89f87",
   "metadata": {},
   "source": [
    "### Introduction to Data Transformations\n",
    "\n",
    "- Data transformation is the process of converting *raw data* into a format that is easier to **analyze** or **interpret**.\n",
    "\n",
    "- Common transformations include *filtering* data, *grouping* data, and *applying* aggregations.\n",
    "- `SQL` is a powerful tool to perform these transformations.\n",
    "- Two essential `SQL` tools for this are `GROUP BY` and *aggregation* functions."
   ]
  },
  {
   "cell_type": "markdown",
   "id": "25cb3f9a-7ca3-4e6b-a1be-8750accd0b25",
   "metadata": {},
   "source": [
    "#### Scenario: \n",
    "\n",
    "You have been hired as a Data Analyst for a company that manages product sales across four regions: North, South, East, and West. The company is keen on understanding how different products perform in each region and how customers behave in terms of their purchasing patterns.\n",
    "\n",
    "Your will work with these two tables:\n",
    "\n",
    "1.\tsales_data: This table tracks product sales, including information about the product, the region where the sale occurred, the amount of the sale, and the date of the sale.\n",
    "\n",
    "2.\tcustomer_orders: This table keeps track of customer purchases, including the customer ID, the amount they spent on each order, and the date of the order.\n",
    "\n",
    "**Sales_data**\n",
    "| **Column**     | **Data Type** | **Description**                             |\n",
    "|----------------|---------------|---------------------------------------------|\n",
    "| product_id     | INTEGER       | ID of the product (1-10 different products) |\n",
    "| region         | TEXT          | Region where the sale occurred (North, South, East, West) |\n",
    "| sale_amount    | INTEGER       | Amount of the sale (between US50 and US1000)  |\n",
    "| sale_date      | TEXT          | Date of the sale (randomly chosen within a 30-day range starting from 2023-10-01) |\n",
    "\n",
    "**customer_orders**\n",
    "| **Column**     | **Data Type** | **Description**                             |\n",
    "|----------------|---------------|---------------------------------------------|\n",
    "| customer_id    | INTEGER       | ID of the customer (1-50 different customers) |\n",
    "| order_amount   | INTEGER       | Amount of the order (between US50 and US2000) |\n",
    "| order_date     | TEXT          | Date of the order (randomly chosen within a 30-day range starting from 2023-10-01) |"
   ]
  },
  {
   "cell_type": "code",
   "execution_count": null,
   "id": "4cdb152a-ab11-4b37-8f26-606eb477991d",
   "metadata": {},
   "outputs": [],
   "source": [
    "%load_ext sql"
   ]
  },
  {
   "cell_type": "code",
   "execution_count": null,
   "id": "0b78ff8f-8468-4e6a-9ce3-b643f499dfd3",
   "metadata": {},
   "outputs": [],
   "source": [
    "%sql sqlite:///data/large_sqlite_db.db"
   ]
  },
  {
   "cell_type": "code",
   "execution_count": null,
   "id": "1a0ad2eb-6256-427c-a7b0-8cba10c98d6c",
   "metadata": {},
   "outputs": [],
   "source": [
    "%%sql\n",
    "SELECT * FROM sales_data\n",
    "LIMIT 2;"
   ]
  },
  {
   "cell_type": "code",
   "execution_count": null,
   "id": "d411b80a-8e82-4f7e-91b8-8f545afaa863",
   "metadata": {},
   "outputs": [],
   "source": [
    "%%sql\n",
    "SELECT * FROM customer_orders\n",
    "LIMIT 2;"
   ]
  },
  {
   "cell_type": "markdown",
   "id": "84768534-877f-4669-bad3-90c6dfedf380",
   "metadata": {},
   "source": [
    "Imagine I want to see the purchase orders by region:\n",
    "\n",
    "**Query**:\n",
    "```sql\n",
    "SELECT region, SUM(sale_amount)\n",
    "FROM sales_data\n",
    "GROUP BY region;\n",
    "```"
   ]
  },
  {
   "cell_type": "markdown",
   "id": "3f4e17c5-0268-4a5f-b0d3-23227e23bd3c",
   "metadata": {},
   "source": [
    "#### `GROUP BY` in `SQL`\n",
    "- The `GROUP BY` clause groups rows that have the same values in specified columns into summary rows.\n",
    "- `GROUP BY` is essential when you want to perform aggregate calculations (e.g., sums, averages) for each group of data.\n",
    "- When using `GROUP BY`, you need to include columns that will define how the data should be grouped. Every non-aggregated column in the `SELECT` statement must also appear in the `GROUP BY`.\n",
    "- The `GROUP BY` clause groups the data by region. However, for each region, it `sums` the sale_amount thanks to the **aggregation** function `sum()` in the `SELECT` statement. If we do not pass an **aggregation** function, we may receive an error (depending on the `SQL` engine we are using.)\n",
    "\n",
    "![group_by](img/group_by.png)"
   ]
  },
  {
   "cell_type": "code",
   "execution_count": null,
   "id": "29e7baca-f31f-4602-b2cb-efbfaf3f19c6",
   "metadata": {},
   "outputs": [],
   "source": [
    "%%sql\n",
    "\n",
    "SELECT region, SUM(sale_amount)\n",
    "FROM sales_data\n",
    "GROUP BY region;"
   ]
  },
  {
   "cell_type": "markdown",
   "id": "ee0471f0-562d-47d1-bf4e-f49db0c81d68",
   "metadata": {},
   "source": [
    "Since I am using `sqlite`, it picks one value for **sale_amount** per region group without aggregating it, which can lead to unpredictable results. `Postgres` would yield an error."
   ]
  },
  {
   "cell_type": "markdown",
   "id": "a222b9e1-5c8d-46dd-a850-1a60a5d247af",
   "metadata": {},
   "source": [
    "#### Aggregation Functions in SQL (15 minutes)\n",
    "\n",
    "Key Aggregation Functions:\n",
    "\n",
    "1. `SUM()`: Adds up all the values in a group.\n",
    "    - Total sales for each region.\n",
    "2. `AVG()`: Calculates the average value for a group.\n",
    "\t- Average sale amount per product.\n",
    "3.\t`COUNT()`: Counts the number of rows in a group.\n",
    "\t- How many sales were made in each region?\n",
    "4.\t`MIN()` and `MAX()`: Finds the minimum and maximum value in a group.\n",
    "    - What was the smallest and largest sale in a day?\n",
    "\n",
    "![](img/aggregation.png)"
   ]
  },
  {
   "cell_type": "markdown",
   "id": "9be70079-e93b-4a16-838a-b6f9e10b6908",
   "metadata": {},
   "source": [
    "#### Examples"
   ]
  },
  {
   "cell_type": "code",
   "execution_count": null,
   "id": "96187fc7-c8ba-4278-8fa6-6a540250a364",
   "metadata": {},
   "outputs": [],
   "source": [
    "%%sql\n",
    "--SUM and AVG\n",
    "\n",
    "SELECT product_id, SUM(sale_amount) AS total_sales, AVG(sale_amount) AS avg_sales\n",
    "FROM sales_data\n",
    "GROUP BY product_id;"
   ]
  },
  {
   "cell_type": "markdown",
   "id": "c364dd13-6d58-464f-8eda-e2bb5e90bd6d",
   "metadata": {},
   "source": [
    "#### Filtering Groups with `HAVING`\n",
    "\n",
    "- Difference between `WHERE` and `HAVING`:\n",
    "    - `WHERE` filters rows **before** grouping, while `HAVING` filters groups **after** the aggregation.\n",
    "     - `WHERE` cannot use **aggregate** functions like `SUM()`, but `HAVING` can.\n",
    "\n",
    "##### Example:\n",
    "Suppose you only want to see regions where the total sales are greater than $30,000:"
   ]
  },
  {
   "cell_type": "code",
   "execution_count": null,
   "id": "6b56eb85-52a2-476c-948f-deb76ebe7b89",
   "metadata": {},
   "outputs": [],
   "source": [
    "%%sql\n",
    "\n",
    "SELECT region, SUM(sale_amount) AS total_sales\n",
    "FROM sales_data\n",
    "GROUP BY region\n",
    "HAVING SUM(sale_amount) > 30000;"
   ]
  },
  {
   "cell_type": "markdown",
   "id": "12a885e1-8274-4628-a5fc-c82656a0d6da",
   "metadata": {},
   "source": [
    "`HAVING` is like a post-filter, it filters the result of the grouping process.\n",
    "\n",
    "#### Combining `GROUP BY`, Aggregation functions, and `HAVING` for Data Analysis Insights\n",
    "\n",
    "Let’s say a company wants to identify which products are generating significant revenue but only in the regions where total sales exceed $5000."
   ]
  },
  {
   "cell_type": "code",
   "execution_count": null,
   "id": "b4b85559-674f-4509-b40a-bbb08c14e01e",
   "metadata": {},
   "outputs": [],
   "source": [
    "%%sql\n",
    "SELECT product_id, region, SUM(sale_amount) AS total_sales\n",
    "FROM sales_data\n",
    "GROUP BY product_id, region\n",
    "HAVING SUM(sale_amount) > 5000;"
   ]
  },
  {
   "cell_type": "markdown",
   "id": "e2beb9e2-b335-4082-8cc3-d5c8622f827f",
   "metadata": {},
   "source": [
    "- This groups by both **product_id** and **region**, **sums** the sales, and **filters** out groups where total sales do not exceed $5000.\n",
    "- Insights from this query could guide decisions on which regions to focus marketing efforts."
   ]
  },
  {
   "cell_type": "markdown",
   "id": "c032b766-87b4-47cf-9742-bc7268aec914",
   "metadata": {},
   "source": [
    "Calculate the total and average `order_amount` for each customer and filter customers who have spent more than $500 on average."
   ]
  },
  {
   "cell_type": "code",
   "execution_count": null,
   "id": "bf7f04cd-ccdd-4ded-9c50-e673f3cc8d9e",
   "metadata": {
    "scrolled": true
   },
   "outputs": [],
   "source": [
    "%%sql\n",
    "SELECT customer_id, SUM(order_amount) AS total_spent, AVG(order_amount) AS avg_order\n",
    "FROM customer_orders\n",
    "GROUP BY customer_id\n",
    "HAVING AVG(order_amount)> 1300;"
   ]
  },
  {
   "cell_type": "markdown",
   "id": "86bb8b0c-ee64-425a-8490-1579678f289a",
   "metadata": {},
   "source": [
    "##### Exercise 1: Sales per Region per Month\n",
    "**Objective**: Group by `region` and `sale_date` to calculate the total sales for each region, broken down by month.\n",
    "\n",
    "**Expected Output**:\n",
    "| region | sale_month | total_sales |\n",
    "|--------|------------|-------------|\n",
    "| North  | 2023-10    | 3500        |\n",
    "| South  | 2023-10    | 4500        |\n",
    "| East   | 2023-10    | 3000        |\n",
    "| West   | 2023-10    | 5000        |"
   ]
  },
  {
   "cell_type": "code",
   "execution_count": null,
   "id": "34952cf7-f1a4-4cd5-85f2-2535e857bb58",
   "metadata": {},
   "outputs": [],
   "source": [
    "%%sql"
   ]
  },
  {
   "cell_type": "markdown",
   "id": "be95dc96-2553-4f76-82c0-d76ad431dc29",
   "metadata": {},
   "source": [
    "##### Exercise 2: Filter Regions with High Total Sales\n",
    "**Objective**: Use the `HAVING` clause to filter groups based on aggregated values.\n",
    "\n",
    "**Task**:\n",
    "Find regions where the total sales are greater than $30000. Use the `HAVING` clause to filter the groups.\n",
    "\n",
    "**Expected Output**:\n",
    "| region | total_sales |\n",
    "|--------|-------------|\n",
    "| North  | 3500        |\n",
    "| West   | 4500        |"
   ]
  },
  {
   "cell_type": "code",
   "execution_count": null,
   "id": "268c3a57-795a-4764-a896-d24976b25982",
   "metadata": {},
   "outputs": [],
   "source": [
    "%%sql"
   ]
  },
  {
   "cell_type": "markdown",
   "id": "a16b440c-fd62-454c-8ad7-8d3a20e1b876",
   "metadata": {},
   "source": [
    "##### Exercise 3: Products with Sales Greater than Average\n",
    "**Objective**: Use `GROUP BY` and `HAVING` to identify products whose total sales are above the overall average sales across all products.\n",
    "\n",
    "**Task**:\n",
    "First, calculate the overall average sales across all products. Then, find the `product_id`s where the total sales for that product are greater than this average.\n",
    "\n",
    "**Expected Output**:\n",
    "| product_id | total_sales |\n",
    "|------------|-------------|\n",
    "| 2          | 6500        |\n",
    "| 3          | 7200        |\n",
    "| 5          | 7500        |"
   ]
  },
  {
   "cell_type": "code",
   "execution_count": null,
   "id": "8c2f4b4a-1db9-484c-bdc4-e5753a1fc3df",
   "metadata": {},
   "outputs": [],
   "source": [
    "%%sql"
   ]
  },
  {
   "cell_type": "markdown",
   "id": "66b5e2ce-d500-4ee0-96fa-309d9dbbff72",
   "metadata": {},
   "source": [
    "##### Exercise 5: Combine Sales and Customer Data (JOIN)\n",
    "\n",
    "Find the total number of products sold per customer who has spent more than $3000 in total (combine `sales_data` and `customer_orders` using a `JOIN`). Group by `customer_id` and filter customers using the `HAVING` clause.\n",
    "\n",
    "**Expected Output**:\n",
    "| customer_id | total_products_sold |\n",
    "|-------------|---------------------|\n",
    "| 12          | 50                  |\n",
    "| 18          | 65                  |"
   ]
  },
  {
   "cell_type": "code",
   "execution_count": null,
   "id": "e6c29611-d6ed-4c7c-8f24-fc5616085184",
   "metadata": {},
   "outputs": [],
   "source": [
    "%%sql"
   ]
  },
  {
   "cell_type": "markdown",
   "id": "e626feff-ef23-4920-8a28-f38c4546e368",
   "metadata": {},
   "source": [
    "#### Conclusions\n",
    "- `GROUP BY` helps organize data into subsets.\n",
    "- Aggregation functions (`SUM()`, `AVG()`, `COUNT()`, etc.) summarize these subsets.\n",
    "- `HAVING` is used to filter groups after aggregation, similar to `WHERE` but applied at the group level."
   ]
  },
  {
   "cell_type": "markdown",
   "id": "ed69729c-223a-4ee9-8d09-00a65a4e8820",
   "metadata": {},
   "source": [
    "[Solutions](W2D5_Solutions.html)"
   ]
  }
 ],
 "metadata": {
  "kernelspec": {
   "display_name": ".venv",
   "language": "python",
   "name": ".venv"
  },
  "language_info": {
   "codemirror_mode": {
    "name": "ipython",
    "version": 3
   },
   "file_extension": ".py",
   "mimetype": "text/x-python",
   "name": "python",
   "nbconvert_exporter": "python",
   "pygments_lexer": "ipython3",
   "version": "3.11.10"
  }
 },
 "nbformat": 4,
 "nbformat_minor": 5
}
