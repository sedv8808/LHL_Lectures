{
 "cells": [
  {
   "cell_type": "markdown",
   "id": "b52deb40-bc09-4ae5-ae50-fe8705c63d58",
   "metadata": {},
   "source": [
    "#### Solutions"
   ]
  },
  {
   "cell_type": "code",
   "execution_count": 1,
   "id": "615e0579-02aa-4cb6-a5ea-09573561d79e",
   "metadata": {},
   "outputs": [],
   "source": [
    "%load_ext sql"
   ]
  },
  {
   "cell_type": "code",
   "execution_count": 2,
   "id": "77793fdd-b1d9-4131-9a8b-fec0c4e023e3",
   "metadata": {},
   "outputs": [],
   "source": [
    "%sql sqlite:///data/large_sqlite_db.db"
   ]
  },
  {
   "cell_type": "code",
   "execution_count": 3,
   "id": "52b3c6a5-d64c-45ff-9843-d7a201b36b6c",
   "metadata": {},
   "outputs": [
    {
     "name": "stdout",
     "output_type": "stream",
     "text": [
      " * sqlite:///data/large_sqlite_db.db\n",
      "Done.\n"
     ]
    },
    {
     "data": {
      "text/html": [
       "<table>\n",
       "    <thead>\n",
       "        <tr>\n",
       "            <th>region</th>\n",
       "            <th>sale_month</th>\n",
       "            <th>total_sales</th>\n",
       "        </tr>\n",
       "    </thead>\n",
       "    <tbody>\n",
       "        <tr>\n",
       "            <td>East</td>\n",
       "            <td>2023-10</td>\n",
       "            <td>20814</td>\n",
       "        </tr>\n",
       "        <tr>\n",
       "            <td>North</td>\n",
       "            <td>2023-10</td>\n",
       "            <td>26462</td>\n",
       "        </tr>\n",
       "        <tr>\n",
       "            <td>South</td>\n",
       "            <td>2023-10</td>\n",
       "            <td>26639</td>\n",
       "        </tr>\n",
       "        <tr>\n",
       "            <td>West</td>\n",
       "            <td>2023-10</td>\n",
       "            <td>30859</td>\n",
       "        </tr>\n",
       "    </tbody>\n",
       "</table>"
      ],
      "text/plain": [
       "[('East', '2023-10', 20814),\n",
       " ('North', '2023-10', 26462),\n",
       " ('South', '2023-10', 26639),\n",
       " ('West', '2023-10', 30859)]"
      ]
     },
     "execution_count": 3,
     "metadata": {},
     "output_type": "execute_result"
    }
   ],
   "source": [
    "%%sql\n",
    "-- Exercise 1\n",
    "SELECT region, strftime('%Y-%m', sale_date) AS sale_month, SUM(sale_amount) AS total_sales\n",
    "FROM sales_data\n",
    "GROUP BY region, sale_month;"
   ]
  },
  {
   "cell_type": "code",
   "execution_count": 4,
   "id": "64a094af-50a5-41c0-b2fb-00da241699f7",
   "metadata": {},
   "outputs": [
    {
     "name": "stdout",
     "output_type": "stream",
     "text": [
      " * sqlite:///data/large_sqlite_db.db\n",
      "Done.\n"
     ]
    },
    {
     "data": {
      "text/html": [
       "<table>\n",
       "    <thead>\n",
       "        <tr>\n",
       "            <th>region</th>\n",
       "            <th>total_sales</th>\n",
       "        </tr>\n",
       "    </thead>\n",
       "    <tbody>\n",
       "        <tr>\n",
       "            <td>East</td>\n",
       "            <td>20814</td>\n",
       "        </tr>\n",
       "        <tr>\n",
       "            <td>North</td>\n",
       "            <td>26462</td>\n",
       "        </tr>\n",
       "        <tr>\n",
       "            <td>South</td>\n",
       "            <td>26639</td>\n",
       "        </tr>\n",
       "        <tr>\n",
       "            <td>West</td>\n",
       "            <td>30859</td>\n",
       "        </tr>\n",
       "    </tbody>\n",
       "</table>"
      ],
      "text/plain": [
       "[('East', 20814), ('North', 26462), ('South', 26639), ('West', 30859)]"
      ]
     },
     "execution_count": 4,
     "metadata": {},
     "output_type": "execute_result"
    }
   ],
   "source": [
    "%%sql\n",
    "-- Exercise 2\n",
    "SELECT region, SUM(sale_amount) AS total_sales\n",
    "FROM sales_data\n",
    "GROUP BY region\n",
    "HAVING SUM(sale_amount) > 3000;"
   ]
  },
  {
   "cell_type": "code",
   "execution_count": 5,
   "id": "3fc26f74-c8f4-4a3a-bb8e-f7615372c9cb",
   "metadata": {},
   "outputs": [
    {
     "name": "stdout",
     "output_type": "stream",
     "text": [
      " * sqlite:///data/large_sqlite_db.db\n",
      "Done.\n"
     ]
    },
    {
     "data": {
      "text/html": [
       "<table>\n",
       "    <thead>\n",
       "        <tr>\n",
       "            <th>product_id</th>\n",
       "            <th>total_sales</th>\n",
       "        </tr>\n",
       "    </thead>\n",
       "    <tbody>\n",
       "        <tr>\n",
       "            <td>1</td>\n",
       "            <td>10559</td>\n",
       "        </tr>\n",
       "        <tr>\n",
       "            <td>4</td>\n",
       "            <td>11263</td>\n",
       "        </tr>\n",
       "        <tr>\n",
       "            <td>5</td>\n",
       "            <td>11189</td>\n",
       "        </tr>\n",
       "        <tr>\n",
       "            <td>7</td>\n",
       "            <td>11131</td>\n",
       "        </tr>\n",
       "        <tr>\n",
       "            <td>8</td>\n",
       "            <td>13444</td>\n",
       "        </tr>\n",
       "    </tbody>\n",
       "</table>"
      ],
      "text/plain": [
       "[(1, 10559), (4, 11263), (5, 11189), (7, 11131), (8, 13444)]"
      ]
     },
     "execution_count": 5,
     "metadata": {},
     "output_type": "execute_result"
    }
   ],
   "source": [
    "%%sql\n",
    "-- Exercise 3\n",
    "-- Step 1: Calculate the overall average sales across all products\n",
    "WITH avg_sales AS (\n",
    "    SELECT AVG(total_sales) AS avg_total_sales\n",
    "    FROM (\n",
    "        SELECT product_id, SUM(sale_amount) AS total_sales\n",
    "        FROM sales_data\n",
    "        GROUP BY product_id\n",
    "    )\n",
    ")\n",
    "\n",
    "-- Step 2: Find products with sales greater than the average\n",
    "SELECT product_id, SUM(sale_amount) AS total_sales\n",
    "FROM sales_data\n",
    "GROUP BY product_id\n",
    "HAVING SUM(sale_amount) > (SELECT avg_total_sales FROM avg_sales);"
   ]
  },
  {
   "cell_type": "code",
   "execution_count": 6,
   "id": "07eac0ae-8c33-447b-888d-71e5b0e90512",
   "metadata": {},
   "outputs": [
    {
     "name": "stdout",
     "output_type": "stream",
     "text": [
      " * sqlite:///data/large_sqlite_db.db\n",
      "Done.\n"
     ]
    },
    {
     "data": {
      "text/html": [
       "<table>\n",
       "    <thead>\n",
       "        <tr>\n",
       "            <th>product_id</th>\n",
       "            <th>total_sales</th>\n",
       "        </tr>\n",
       "    </thead>\n",
       "    <tbody>\n",
       "        <tr>\n",
       "            <td>1</td>\n",
       "            <td>10559</td>\n",
       "        </tr>\n",
       "        <tr>\n",
       "            <td>2</td>\n",
       "            <td>9092</td>\n",
       "        </tr>\n",
       "        <tr>\n",
       "            <td>3</td>\n",
       "            <td>9983</td>\n",
       "        </tr>\n",
       "        <tr>\n",
       "            <td>4</td>\n",
       "            <td>11263</td>\n",
       "        </tr>\n",
       "        <tr>\n",
       "            <td>5</td>\n",
       "            <td>11189</td>\n",
       "        </tr>\n",
       "        <tr>\n",
       "            <td>6</td>\n",
       "            <td>10270</td>\n",
       "        </tr>\n",
       "        <tr>\n",
       "            <td>7</td>\n",
       "            <td>11131</td>\n",
       "        </tr>\n",
       "        <tr>\n",
       "            <td>8</td>\n",
       "            <td>13444</td>\n",
       "        </tr>\n",
       "        <tr>\n",
       "            <td>9</td>\n",
       "            <td>8304</td>\n",
       "        </tr>\n",
       "        <tr>\n",
       "            <td>10</td>\n",
       "            <td>9539</td>\n",
       "        </tr>\n",
       "    </tbody>\n",
       "</table>"
      ],
      "text/plain": [
       "[(1, 10559),\n",
       " (2, 9092),\n",
       " (3, 9983),\n",
       " (4, 11263),\n",
       " (5, 11189),\n",
       " (6, 10270),\n",
       " (7, 11131),\n",
       " (8, 13444),\n",
       " (9, 8304),\n",
       " (10, 9539)]"
      ]
     },
     "execution_count": 6,
     "metadata": {},
     "output_type": "execute_result"
    }
   ],
   "source": [
    "%%sql\n",
    "SELECT product_id, SUM(sale_amount) AS total_sales\n",
    "FROM sales_data\n",
    "GROUP BY product_id"
   ]
  },
  {
   "cell_type": "code",
   "execution_count": 7,
   "id": "fc000036-5852-4e40-8c48-3b1c04cfefd7",
   "metadata": {},
   "outputs": [
    {
     "name": "stdout",
     "output_type": "stream",
     "text": [
      " * sqlite:///data/large_sqlite_db.db\n",
      "Done.\n"
     ]
    },
    {
     "data": {
      "text/html": [
       "<table>\n",
       "    <thead>\n",
       "        <tr>\n",
       "            <th>customer_id</th>\n",
       "            <th>total_spent</th>\n",
       "        </tr>\n",
       "    </thead>\n",
       "    <tbody>\n",
       "        <tr>\n",
       "            <td>6</td>\n",
       "            <td>11538</td>\n",
       "        </tr>\n",
       "        <tr>\n",
       "            <td>8</td>\n",
       "            <td>5052</td>\n",
       "        </tr>\n",
       "        <tr>\n",
       "            <td>9</td>\n",
       "            <td>5169</td>\n",
       "        </tr>\n",
       "        <tr>\n",
       "            <td>14</td>\n",
       "            <td>5329</td>\n",
       "        </tr>\n",
       "        <tr>\n",
       "            <td>17</td>\n",
       "            <td>6589</td>\n",
       "        </tr>\n",
       "        <tr>\n",
       "            <td>18</td>\n",
       "            <td>6265</td>\n",
       "        </tr>\n",
       "        <tr>\n",
       "            <td>20</td>\n",
       "            <td>7088</td>\n",
       "        </tr>\n",
       "        <tr>\n",
       "            <td>21</td>\n",
       "            <td>5614</td>\n",
       "        </tr>\n",
       "        <tr>\n",
       "            <td>23</td>\n",
       "            <td>5422</td>\n",
       "        </tr>\n",
       "        <tr>\n",
       "            <td>25</td>\n",
       "            <td>6034</td>\n",
       "        </tr>\n",
       "        <tr>\n",
       "            <td>26</td>\n",
       "            <td>5919</td>\n",
       "        </tr>\n",
       "        <tr>\n",
       "            <td>27</td>\n",
       "            <td>7795</td>\n",
       "        </tr>\n",
       "        <tr>\n",
       "            <td>33</td>\n",
       "            <td>10560</td>\n",
       "        </tr>\n",
       "        <tr>\n",
       "            <td>37</td>\n",
       "            <td>9520</td>\n",
       "        </tr>\n",
       "        <tr>\n",
       "            <td>41</td>\n",
       "            <td>7189</td>\n",
       "        </tr>\n",
       "        <tr>\n",
       "            <td>46</td>\n",
       "            <td>9445</td>\n",
       "        </tr>\n",
       "        <tr>\n",
       "            <td>47</td>\n",
       "            <td>5797</td>\n",
       "        </tr>\n",
       "        <tr>\n",
       "            <td>48</td>\n",
       "            <td>6273</td>\n",
       "        </tr>\n",
       "        <tr>\n",
       "            <td>50</td>\n",
       "            <td>5433</td>\n",
       "        </tr>\n",
       "    </tbody>\n",
       "</table>"
      ],
      "text/plain": [
       "[(6, 11538),\n",
       " (8, 5052),\n",
       " (9, 5169),\n",
       " (14, 5329),\n",
       " (17, 6589),\n",
       " (18, 6265),\n",
       " (20, 7088),\n",
       " (21, 5614),\n",
       " (23, 5422),\n",
       " (25, 6034),\n",
       " (26, 5919),\n",
       " (27, 7795),\n",
       " (33, 10560),\n",
       " (37, 9520),\n",
       " (41, 7189),\n",
       " (46, 9445),\n",
       " (47, 5797),\n",
       " (48, 6273),\n",
       " (50, 5433)]"
      ]
     },
     "execution_count": 7,
     "metadata": {},
     "output_type": "execute_result"
    }
   ],
   "source": [
    "%%sql\n",
    "-- Exercise 4\n",
    "SELECT customer_id, SUM(order_amount) AS total_spent\n",
    "FROM customer_orders\n",
    "GROUP BY customer_id\n",
    "HAVING SUM(order_amount) > 5000;"
   ]
  },
  {
   "cell_type": "code",
   "execution_count": 8,
   "id": "f469a9e2-eed1-4385-9461-2098d073c547",
   "metadata": {},
   "outputs": [
    {
     "name": "stdout",
     "output_type": "stream",
     "text": [
      " * sqlite:///data/large_sqlite_db.db\n",
      "Done.\n"
     ]
    },
    {
     "data": {
      "text/html": [
       "<table>\n",
       "    <thead>\n",
       "        <tr>\n",
       "            <th>customer_id</th>\n",
       "            <th>total_products_sold</th>\n",
       "        </tr>\n",
       "    </thead>\n",
       "    <tbody>\n",
       "        <tr>\n",
       "            <td>1</td>\n",
       "            <td>57</td>\n",
       "        </tr>\n",
       "        <tr>\n",
       "            <td>2</td>\n",
       "            <td>38</td>\n",
       "        </tr>\n",
       "        <tr>\n",
       "            <td>3</td>\n",
       "            <td>66</td>\n",
       "        </tr>\n",
       "        <tr>\n",
       "            <td>4</td>\n",
       "            <td>84</td>\n",
       "        </tr>\n",
       "        <tr>\n",
       "            <td>5</td>\n",
       "            <td>60</td>\n",
       "        </tr>\n",
       "        <tr>\n",
       "            <td>6</td>\n",
       "            <td>153</td>\n",
       "        </tr>\n",
       "        <tr>\n",
       "            <td>7</td>\n",
       "            <td>60</td>\n",
       "        </tr>\n",
       "        <tr>\n",
       "            <td>8</td>\n",
       "            <td>115</td>\n",
       "        </tr>\n",
       "        <tr>\n",
       "            <td>9</td>\n",
       "            <td>95</td>\n",
       "        </tr>\n",
       "        <tr>\n",
       "            <td>10</td>\n",
       "            <td>80</td>\n",
       "        </tr>\n",
       "    </tbody>\n",
       "</table>"
      ],
      "text/plain": [
       "[(1, 57),\n",
       " (2, 38),\n",
       " (3, 66),\n",
       " (4, 84),\n",
       " (5, 60),\n",
       " (6, 153),\n",
       " (7, 60),\n",
       " (8, 115),\n",
       " (9, 95),\n",
       " (10, 80)]"
      ]
     },
     "execution_count": 8,
     "metadata": {},
     "output_type": "execute_result"
    }
   ],
   "source": [
    "%%sql\n",
    "-- Exercise 5\n",
    "SELECT c.customer_id, COUNT(s.product_id) AS total_products_sold\n",
    "FROM customer_orders c\n",
    "JOIN sales_data s ON c.customer_id = s.product_id  -- Assume product_id is related\n",
    "GROUP BY c.customer_id\n",
    "HAVING SUM(c.order_amount) > 3000;"
   ]
  },
  {
   "cell_type": "code",
   "execution_count": null,
   "id": "39a8786d-ad17-4383-9254-a8d7e007b0af",
   "metadata": {},
   "outputs": [],
   "source": []
  }
 ],
 "metadata": {
  "kernelspec": {
   "display_name": ".venv",
   "language": "python",
   "name": ".venv"
  },
  "language_info": {
   "codemirror_mode": {
    "name": "ipython",
    "version": 3
   },
   "file_extension": ".py",
   "mimetype": "text/x-python",
   "name": "python",
   "nbconvert_exporter": "python",
   "pygments_lexer": "ipython3",
   "version": "3.11.10"
  }
 },
 "nbformat": 4,
 "nbformat_minor": 5
}
