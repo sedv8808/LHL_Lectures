{
 "cells": [
  {
   "cell_type": "markdown",
   "metadata": {
    "id": "UkVKimgLvoRp"
   },
   "source": [
    "<table>\n",
    "  <tr>\n",
    "    <td style=\"text-align: left;\">\n",
    "      <h1>Lighthouse Labs</h1>\n",
    "      <h2>W4D5 - Introduction to Machine Learning (ML)</h2>\n",
    "      <strong>Instructor:</strong> Socorro E. Dominguez-Vidana\n",
    "    </td>\n",
    "    <td style=\"text-align: right;\">\n",
    "      <img src=\"img/lhl.jpeg\" alt=\"LHL\" width=\"200\">\n",
    "    </td>\n",
    "  </tr>\n",
    "</table>"
   ]
  },
  {
   "cell_type": "markdown",
   "metadata": {},
   "source": [
    "[![Binder](https://mybinder.org/badge_logo.svg)](https://mybinder.org/v2/gh/sedv8808/LHL_Lectures/main?labpath=W6D4%2FW6D4_Intro_to_ML.ipynb)"
   ]
  },
  {
   "cell_type": "markdown",
   "metadata": {
    "id": "0JukDw-rvoRt"
   },
   "source": [
    "Overview:\n",
    "- [] Machine Learning\n",
    "    - [] Supervised vs. Unsupervised Learning\n",
    "- [] Supervised Learning\n",
    "    - [] `X` and `y`\n",
    "    - [] Regression vs. Classification    \n",
    "    - [] The golden rule: train/test split\n",
    "- [] Simple Linear Regression\n",
    "- [] Polynomial Regression"
   ]
  },
  {
   "cell_type": "markdown",
   "metadata": {
    "id": "IacgiMO2voRu"
   },
   "source": [
    "## Machine Learning"
   ]
  },
  {
   "cell_type": "markdown",
   "metadata": {
    "id": "Oi-qOergvoRv"
   },
   "source": [
    "#### What is Machine Learning (ML)?\n",
    "\n",
    "- A subset of **A**rtificial **I**ntelligence.\n",
    "- **ML** algorithms learn from data (training data) to make predictions or decisions without explicit programming.\n",
    "- Models are built based on sample data to adapt and improve over time.\n",
    "<blockquote>\n",
    "  “The field of study that gives computers the ability to learn without being explicitly programmed.”\n",
    "  <span style=\"float: right;\">— Arthur Samuel (1959)</span>\n",
    "</blockquote>"
   ]
  },
  {
   "cell_type": "markdown",
   "metadata": {},
   "source": [
    "![Traditional programming vs machine learning](https://www.avenga.com/wp-content/uploads/2021/12/image4-1.png)"
   ]
  },
  {
   "cell_type": "markdown",
   "metadata": {
    "id": "ZF9cW1JHvoRx"
   },
   "source": [
    "### Types of Machine Learning"
   ]
  },
  {
   "cell_type": "markdown",
   "metadata": {
    "id": "rNIKPOH9voRy"
   },
   "source": [
    "#### Supervised Learning\n",
    "\n",
    "- Involves training models using labeled data, where the correct output is known. The algorithm learns to map inputs (__*X*__) to the desired outputs (__*y*__)\n",
    "\n",
    " ![sup_learning](https://cdn-images-1.medium.com/max/1600/1*Iz7bCLrPTImnBDOOEyE3LA.png)\n",
    "\n",
    " [Author unknown. (n.d.). Supervised vs Unsupervised Machine Learning Medium.](https://cdn-images-1.medium.com/max/1600/1*Iz7bCLrPTImnBDOOEyE3LA.png)"
   ]
  },
  {
   "attachments": {},
   "cell_type": "markdown",
   "metadata": {},
   "source": [
    "#### Unsupervised Learning\n",
    "- Works with unlabeled data, where the algorithm explores patterns and structures within the data **without** knowing the correct answers.\n",
    "\n",
    "![Unsupervised Learning](https://cdn-images-1.medium.com/max/1440/1*YUl_BcqFPgX49sSb5yrk3A.jpeg)\n",
    "\n",
    "[Author unknown. (n.d.). Data Science vs. Machine Learning Medium. ](https://cdn-images-1.medium.com/max/1440/1*YUl_BcqFPgX49sSb5yrk3A.jpeg)"
   ]
  },
  {
   "cell_type": "markdown",
   "metadata": {
    "id": "ZoZXbSJgvoRy"
   },
   "source": [
    "### Supervised Learning: Regression & Classification"
   ]
  },
  {
   "cell_type": "markdown",
   "metadata": {
    "id": "ZQ8u_Uj5voRz"
   },
   "source": [
    "#### Classification Problems\n",
    "\n",
    "- Classification is about assigning items to specific categories or groups, also called classes.\n",
    "- The goal is to predict which class an input belongs to, based on patterns in the data.\n",
    "    - *Binary Classification*: Involves two possible outcomes.\n",
    "        - Predicting whether a patient has liver disease or not.\n",
    "\t- *Multi-class Classification*: Involves more than two classes.\n",
    "        - Predicting a student’s letter grade (A, B, C, D, or F).\n",
    "- Real-world applications:\n",
    "    - Spam detection in emails (classify as spam or not spam).\n",
    "    - Image recognition (classify objects or people in a photo).\n",
    "\t- Sentiment analysis (classify text as positive, negative, or neutral).\n",
    "\n",
    "#### Regression Problems\n",
    "- Regression is used when the task is to predict a continuous value rather than a discrete category.\n",
    "- The goal is to model the relationship between the input variables and the output to make numerical predictions.\n",
    "    - *Linear Regression*: The relationship between **input** features and the **predicted value** is modeled as a straight line. \n",
    "        - Predicting house prices based on features like square footage, number of bedrooms, or location.\n",
    "\t- *Non-linear Regression*: The relationship is more complex and doesn’t follow a straight line.\n",
    "        - Predicting the growth of a population over time.\n",
    "- Real-world applications:\n",
    "    - Forecasting stock prices based on historical data.\n",
    "    - Predicting the amount of rainfall based on weather conditions like temperature and humidity.\n",
    "\n",
    "![Mukherjee, A. (n.d.). AI Part 3: Regression vs Classification Models. LinkedIn](https://media.licdn.com/dms/image/v2/D5612AQHleCueKC_lww/article-cover_image-shrink_600_2000/article-cover_image-shrink_600_2000/0/1677785069046?e=2147483647&v=beta&t=SltTkQoZCiyad2yR8rJpHzM_Kc0d2JpZydhvpiJBp9I)\n",
    "[Mukherjee, A. (n.d.). AI Part 3: Regression vs Classification Models. LinkedIn](https://media.licdn.com/dms/image/v2/D5612AQHleCueKC_lww/article-cover_image-shrink_600_2000/article-cover_image-shrink_600_2000/0/1677785069046?e=2147483647&v=beta&t=SltTkQoZCiyad2yR8rJpHzM_Kc0d2JpZydhvpiJBp9I)"
   ]
  },
  {
   "cell_type": "markdown",
   "metadata": {
    "id": "_b3n9D9ivoRz"
   },
   "source": [
    "### The Golden Rule of Supervised Learning\n",
    "- Once you've identified your features (**X**) and target (**y**), it's crucial to **split your data** into two sets: *training* and *testing*.\n",
    "\n",
    "- You should only work with the **training data** when building your model.  \n",
    "    - If you involve test data in your decision-making (e.g., selecting or dropping features), you're allowing the test set to influence your choices.\n",
    "    - This can cause **data leakage**, meaning your model has been indirectly exposed to the test data.\n",
    "    - As a result, your model's performance won't reflect how it would perform on **unseen data** in real-world scenarios.\n",
    "  \n",
    "By keeping the test data **untouched**, your evaluation will be more reliable and representative of how the model generalizes to new data.\n",
    "\n",
    "### Training vs. Test Scores\n",
    "- When evaluating a model, we typically look at two scores: **training score** vs. **test score**.\n",
    "- The **test score** is more important because it reflects how the model performs on unseen data.\n",
    "- **Good models** that generalize well will have **similar training and test scores**.\n",
    "- Our goal is to choose models that can **generalize well** to new, unseen data, not just memorize the training data."
   ]
  },
  {
   "cell_type": "markdown",
   "metadata": {
    "id": "vywDxAcfvoR0"
   },
   "source": [
    "#### The fundamental tradeoff\n",
    "\n",
    "| Model | Training Score relative to Test Score | Performance |\n",
    "|:-|:-|:-|\n",
    "| Too Complex|High training score compared to test score| Overfit |\n",
    "|Too Simple|Low training score and low test score|Underfit|\n",
    "\n",
    "- Models that have **extremely high training scores** ahd have learned **highly complex** relationships in the training data can be **overfit**\n",
    "- On the other hand, models that have **low training scores** and are **very simple** may not have learned the necessary relationships in the training data needed to predict well on unseen data; they are **underfit**"
   ]
  },
  {
   "cell_type": "markdown",
   "metadata": {
    "id": "UfrA3vFxvoR0"
   },
   "source": [
    "![img](img/good_fit.png)\n",
    "[Sahu, P. (2020, September 9). Techniques for handling underfitting and overfitting in machine learning. Towards Data Science.](https://towardsdatascience.com/techniques-for-handling-underfitting-and-overfitting-in-machine-learning-348daa2380b9)"
   ]
  },
  {
   "cell_type": "markdown",
   "metadata": {},
   "source": [
    "#### Empirical Risk Minimization (ERM)\n",
    "\n",
    "- In ML we aim to minimize the **empirical risk** (the average loss over training data).\n",
    "- The goal is to approximate the best possible model by minimizing the loss function on the training set.\n",
    "- However, errors can occur at different stages of the learning process.\n",
    "\n",
    "### Three Main Errors\n",
    "\n",
    "#### Approximation Error\n",
    "- This error occurs when the model is **too simple** to capture the true underlying function.\n",
    "- It represents the gap between the **best possible model** and the true function.\n",
    "- Example: Using a linear model to fit a highly non-linear function.\n",
    "- To minimize error (future lectures):\n",
    "    - Use more **complex models** with higher capacity.\n",
    "    - Apply **feature engineering** to capture more relevant information.\n",
    "\n",
    "\n",
    "#### Estimation Error\n",
    "- This error arises from the fact that we only have a **finite sample** of data.\n",
    "- The model learned on the training data may not generalize well to unseen data.\n",
    "- Small training data or sampling noise.\n",
    "- Overfitting to the training data, leading to poor performance on unseen data.\n",
    "- To minimize error (future lectures):\n",
    "    - Increase the **size of the training dataset**.\n",
    "    - Use **regularization techniques** to prevent overfitting.\n",
    "    - Cross-validation for better model selection.\n",
    "\n",
    "#### Optimization Error\n",
    "- This error occurs when the algorithm fails to find the **global minimum** of the loss function during training.\n",
    "- This can happen when the optimization process gets stuck in local minima or saddle points. \n",
    "- To minimize error (future lectures): \n",
    "    - Use more effective **optimization algorithms** (e.g., `Adam`, `RMSprop`).\n",
    "    - Tune `hyperparameters` carefully."
   ]
  },
  {
   "cell_type": "markdown",
   "metadata": {
    "id": "UjCNSoxwvoR1"
   },
   "source": [
    "#### Fundamental Trade-off\n",
    "\n",
    "- Minimizing **approximation error** helps ensure that our model generalizes well to unseen data.\n",
    "  \n",
    "$$E_{approx} = (E_{test} - E_{train})$$\n",
    "\n",
    "- There is often a **trade-off** between model complexity and test error:\n",
    "    - A more complex model can fit the **specific patterns** in the training data, increasing $E_{approx}$.\n",
    "    - This can lead to **overfitting**, where the model doesn't generalize well to new data.\n",
    "  \n",
    "- As model complexity increases, $E_{approx}$ tends to grow, making it harder for the model to generalize.\n",
    "- However, **more data** can reduce $E_{approx}$ and improve generalization."
   ]
  },
  {
   "cell_type": "markdown",
   "metadata": {
    "id": "DRlFktBHedwa"
   },
   "source": [
    "![tradeoff.png](data:image/png;base64,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)"
   ]
  },
  {
   "cell_type": "markdown",
   "metadata": {
    "id": "rfvGetHbvoR1"
   },
   "source": [
    "### Bias-Variance Trade-off\n",
    "\n",
    "- **Bias error**: Error due to **incorrect assumptions** in the learning model.\n",
    "    - High bias leads to **underfitting** (the model fails to capture key patterns).\n",
    "  \n",
    "- **Variance**: Error due to the model's **sensitivity** to small fluctuations in training data.\n",
    "    - High variance leads to **overfitting** (the model captures noise instead of the true signal).\n",
    "\n",
    "- **Key balance**: The goal is to find the right balance between bias and variance for a model that generalizes well."
   ]
  },
  {
   "cell_type": "markdown",
   "metadata": {},
   "source": [
    "![bias_var_tradeoff](http://scott.fortmann-roe.com/docs/docs/BiasVariance/biasvariance.png)\n",
    "[Cornell University. (2018). Lecture 12: Bias/Variance Tradeoff. Cornell University CS4780: Machine Learning.](https://www.cs.cornell.edu/courses/cs4780/2018fa/lectures/lecturenote12.html)"
   ]
  },
  {
   "cell_type": "markdown",
   "metadata": {
    "id": "s5GJ2_6tvoR1"
   },
   "source": [
    "## Linear Regression\n",
    "\n",
    "- Linear regression is one of the most basic and popular ML/statistical techniques.\n",
    "- Used as a predictive model\n",
    "- Assumes a linear relationship between the dependent variable (which is the variable we are trying to predict/estimate, **y**) and the independent variable/s (input variable/s used in the prediction, **X**)"
   ]
  },
  {
   "cell_type": "markdown",
   "metadata": {
    "id": "ztHqsK-5voR1"
   },
   "source": [
    "## Simple Linear Regression\n",
    "\n",
    "- Only one independent/input variable is used to predict the dependent variable.\n",
    "\n",
    "$$\\hat{y} = wx + b$$\n",
    "\n",
    "$\\hat{y}$ = Dependent variable\n",
    "\n",
    "$b$ = Constant\n",
    "\n",
    "$w$ = Coefficients\n",
    "\n",
    "$x$ = Independent variable"
   ]
  },
  {
   "cell_type": "markdown",
   "metadata": {
    "id": "oCVQIfguvoR2"
   },
   "source": [
    "## Multiple Linear Regression\n",
    "- Many $x$'s and $w$'s\n",
    "\n",
    "$$\\hat{y} = w_1x_1 + w_2x_2 + ... + b$$\n",
    "\n",
    "- The larger the value of $w_i$, the more influence $x_i$ has on the target $\\hat{y}$"
   ]
  },
  {
   "cell_type": "markdown",
   "metadata": {
    "id": "Vk1lbLuIvoR2"
   },
   "source": [
    "## Matrix representation\n",
    "\n",
    "- $\\hat{y}$ is the linear function of features $x$ and weights $w$.\n",
    "\n",
    "$$\\hat{y} = w^Tx + b$$\n",
    "        \n",
    "- $\\hat{y} \\rightarrow$ prediction\n",
    "- $w \\rightarrow$ weight vector\n",
    "- $b \\rightarrow$ bias\n",
    "- $x \\rightarrow$ features\n",
    "\n",
    "$$\\hat{y} = \\begin{bmatrix}w_1 & w_2 & \\cdots & w_d\\end{bmatrix}\\begin{bmatrix}x_1 \\\\ x_2 \\\\ \\vdots \\\\ x_d\\end{bmatrix} + b$$"
   ]
  },
  {
   "cell_type": "markdown",
   "metadata": {
    "id": "gIMbeu2BvoR2"
   },
   "source": [
    "#### The Coffee-Productivity Dilemma: A Data-Driven Approach\n",
    "\n",
    "![](https://encrypted-tbn0.gstatic.com/images?q=tbn:ANd9GcTjLPYgpGsw4J31oKvJY-bpiVfMmwlxoIHD5A&s)\n",
    "\n",
    "Sarah is a team leader at a marketing firm. She has noticed a strange trend in her team's productivity. Some days, her team is incredibly efficient, completing projects ahead of schedule, while other days they struggle to meet even the simplest deadlines. After a few weeks of observation, Sarah notices that on days when her team seems especially productive, there are a lot more coffee cups piling up in the office trash bin.\n",
    "\n",
    "Curious about the potential link between coffee consumption and work output, Sarah decides to investigate. She wonders, \"Could there be a relationship between how much coffee my team drinks and their productivity (how many tasks are completed) throughout the day?\""
   ]
  },
  {
   "cell_type": "code",
   "execution_count": 1,
   "metadata": {
    "executionInfo": {
     "elapsed": 1379,
     "status": "ok",
     "timestamp": 1699386256847,
     "user": {
      "displayName": "Alibek Kruglikov",
      "userId": "12107629968185180200"
     },
     "user_tz": 300
    },
    "id": "7ScmaZdfvoR2"
   },
   "outputs": [],
   "source": [
    "import pandas as pd\n",
    "import numpy as np\n",
    "import matplotlib.pyplot as plt"
   ]
  },
  {
   "cell_type": "markdown",
   "metadata": {},
   "source": [
    "##### Step 1: Load the data"
   ]
  },
  {
   "cell_type": "code",
   "execution_count": 2,
   "metadata": {
    "colab": {
     "base_uri": "https://localhost:8080/",
     "height": 206
    },
    "executionInfo": {
     "elapsed": 14,
     "status": "ok",
     "timestamp": 1699382065259,
     "user": {
      "displayName": "Alibek Kruglikov",
      "userId": "12107629968185180200"
     },
     "user_tz": 300
    },
    "id": "-iPAEUDsvoR3",
    "outputId": "1b878593-3805-4a55-eaaf-fc1aa4a4111b"
   },
   "outputs": [
    {
     "data": {
      "text/html": [
       "<div>\n",
       "<style scoped>\n",
       "    .dataframe tbody tr th:only-of-type {\n",
       "        vertical-align: middle;\n",
       "    }\n",
       "\n",
       "    .dataframe tbody tr th {\n",
       "        vertical-align: top;\n",
       "    }\n",
       "\n",
       "    .dataframe thead th {\n",
       "        text-align: right;\n",
       "    }\n",
       "</style>\n",
       "<table border=\"1\" class=\"dataframe\">\n",
       "  <thead>\n",
       "    <tr style=\"text-align: right;\">\n",
       "      <th></th>\n",
       "      <th>Coffee_Cups</th>\n",
       "      <th>Productivity</th>\n",
       "    </tr>\n",
       "  </thead>\n",
       "  <tbody>\n",
       "    <tr>\n",
       "      <th>0</th>\n",
       "      <td>7</td>\n",
       "      <td>24.851737</td>\n",
       "    </tr>\n",
       "    <tr>\n",
       "      <th>1</th>\n",
       "      <td>4</td>\n",
       "      <td>12.687456</td>\n",
       "    </tr>\n",
       "    <tr>\n",
       "      <th>2</th>\n",
       "      <td>8</td>\n",
       "      <td>21.917630</td>\n",
       "    </tr>\n",
       "    <tr>\n",
       "      <th>3</th>\n",
       "      <td>5</td>\n",
       "      <td>19.208558</td>\n",
       "    </tr>\n",
       "    <tr>\n",
       "      <th>4</th>\n",
       "      <td>7</td>\n",
       "      <td>17.402905</td>\n",
       "    </tr>\n",
       "  </tbody>\n",
       "</table>\n",
       "</div>"
      ],
      "text/plain": [
       "   Coffee_Cups  Productivity\n",
       "0            7     24.851737\n",
       "1            4     12.687456\n",
       "2            8     21.917630\n",
       "3            5     19.208558\n",
       "4            7     17.402905"
      ]
     },
     "execution_count": 2,
     "metadata": {},
     "output_type": "execute_result"
    }
   ],
   "source": [
    "df = pd.read_csv('data/coffee_productivity.csv', usecols = ['Coffee_Cups', 'Productivity'])\n",
    "df.head()"
   ]
  },
  {
   "cell_type": "markdown",
   "metadata": {},
   "source": [
    "##### Step 2: Identify the features **X** and the target **y**"
   ]
  },
  {
   "cell_type": "code",
   "execution_count": 3,
   "metadata": {
    "executionInfo": {
     "elapsed": 308,
     "status": "ok",
     "timestamp": 1699382584057,
     "user": {
      "displayName": "Alibek Kruglikov",
      "userId": "12107629968185180200"
     },
     "user_tz": 300
    },
    "id": "MLaouaUevoR4"
   },
   "outputs": [],
   "source": [
    "X = df['Coffee_Cups'].values.reshape(-1, 1)\n",
    "y = df['Productivity'].values"
   ]
  },
  {
   "cell_type": "markdown",
   "metadata": {},
   "source": [
    "##### Step 3: Split into `train` and `test` sets.\n",
    "- Using `sklearn`'s `train_test_split`.\n",
    "- It shuffles the data and then splits it.\n",
    "- `80/20`, `75/25`, `70/30` are common splits."
   ]
  },
  {
   "cell_type": "code",
   "execution_count": 4,
   "metadata": {},
   "outputs": [],
   "source": [
    "from sklearn.model_selection import train_test_split\n",
    "\n",
    "X_train, X_test, y_train, y_test = train_test_split(X, y, test_size=0.2, random_state=42)"
   ]
  },
  {
   "cell_type": "markdown",
   "metadata": {},
   "source": [
    "##### Step 4: Choosing the model\n",
    "Our problem's **target** is a numerical value. We need a regressor."
   ]
  },
  {
   "cell_type": "code",
   "execution_count": 5,
   "metadata": {
    "colab": {
     "base_uri": "https://localhost:8080/",
     "height": 74
    },
    "executionInfo": {
     "elapsed": 315,
     "status": "ok",
     "timestamp": 1699382635676,
     "user": {
      "displayName": "Alibek Kruglikov",
      "userId": "12107629968185180200"
     },
     "user_tz": 300
    },
    "id": "-G8YH1jMvoR4",
    "outputId": "2dfbedc7-70f0-41c5-e2e6-314c63067fd0"
   },
   "outputs": [
    {
     "data": {
      "text/html": [
       "<style>#sk-container-id-1 {\n",
       "  /* Definition of color scheme common for light and dark mode */\n",
       "  --sklearn-color-text: black;\n",
       "  --sklearn-color-line: gray;\n",
       "  /* Definition of color scheme for unfitted estimators */\n",
       "  --sklearn-color-unfitted-level-0: #fff5e6;\n",
       "  --sklearn-color-unfitted-level-1: #f6e4d2;\n",
       "  --sklearn-color-unfitted-level-2: #ffe0b3;\n",
       "  --sklearn-color-unfitted-level-3: chocolate;\n",
       "  /* Definition of color scheme for fitted estimators */\n",
       "  --sklearn-color-fitted-level-0: #f0f8ff;\n",
       "  --sklearn-color-fitted-level-1: #d4ebff;\n",
       "  --sklearn-color-fitted-level-2: #b3dbfd;\n",
       "  --sklearn-color-fitted-level-3: cornflowerblue;\n",
       "\n",
       "  /* Specific color for light theme */\n",
       "  --sklearn-color-text-on-default-background: var(--sg-text-color, var(--theme-code-foreground, var(--jp-content-font-color1, black)));\n",
       "  --sklearn-color-background: var(--sg-background-color, var(--theme-background, var(--jp-layout-color0, white)));\n",
       "  --sklearn-color-border-box: var(--sg-text-color, var(--theme-code-foreground, var(--jp-content-font-color1, black)));\n",
       "  --sklearn-color-icon: #696969;\n",
       "\n",
       "  @media (prefers-color-scheme: dark) {\n",
       "    /* Redefinition of color scheme for dark theme */\n",
       "    --sklearn-color-text-on-default-background: var(--sg-text-color, var(--theme-code-foreground, var(--jp-content-font-color1, white)));\n",
       "    --sklearn-color-background: var(--sg-background-color, var(--theme-background, var(--jp-layout-color0, #111)));\n",
       "    --sklearn-color-border-box: var(--sg-text-color, var(--theme-code-foreground, var(--jp-content-font-color1, white)));\n",
       "    --sklearn-color-icon: #878787;\n",
       "  }\n",
       "}\n",
       "\n",
       "#sk-container-id-1 {\n",
       "  color: var(--sklearn-color-text);\n",
       "}\n",
       "\n",
       "#sk-container-id-1 pre {\n",
       "  padding: 0;\n",
       "}\n",
       "\n",
       "#sk-container-id-1 input.sk-hidden--visually {\n",
       "  border: 0;\n",
       "  clip: rect(1px 1px 1px 1px);\n",
       "  clip: rect(1px, 1px, 1px, 1px);\n",
       "  height: 1px;\n",
       "  margin: -1px;\n",
       "  overflow: hidden;\n",
       "  padding: 0;\n",
       "  position: absolute;\n",
       "  width: 1px;\n",
       "}\n",
       "\n",
       "#sk-container-id-1 div.sk-dashed-wrapped {\n",
       "  border: 1px dashed var(--sklearn-color-line);\n",
       "  margin: 0 0.4em 0.5em 0.4em;\n",
       "  box-sizing: border-box;\n",
       "  padding-bottom: 0.4em;\n",
       "  background-color: var(--sklearn-color-background);\n",
       "}\n",
       "\n",
       "#sk-container-id-1 div.sk-container {\n",
       "  /* jupyter's `normalize.less` sets `[hidden] { display: none; }`\n",
       "     but bootstrap.min.css set `[hidden] { display: none !important; }`\n",
       "     so we also need the `!important` here to be able to override the\n",
       "     default hidden behavior on the sphinx rendered scikit-learn.org.\n",
       "     See: https://github.com/scikit-learn/scikit-learn/issues/21755 */\n",
       "  display: inline-block !important;\n",
       "  position: relative;\n",
       "}\n",
       "\n",
       "#sk-container-id-1 div.sk-text-repr-fallback {\n",
       "  display: none;\n",
       "}\n",
       "\n",
       "div.sk-parallel-item,\n",
       "div.sk-serial,\n",
       "div.sk-item {\n",
       "  /* draw centered vertical line to link estimators */\n",
       "  background-image: linear-gradient(var(--sklearn-color-text-on-default-background), var(--sklearn-color-text-on-default-background));\n",
       "  background-size: 2px 100%;\n",
       "  background-repeat: no-repeat;\n",
       "  background-position: center center;\n",
       "}\n",
       "\n",
       "/* Parallel-specific style estimator block */\n",
       "\n",
       "#sk-container-id-1 div.sk-parallel-item::after {\n",
       "  content: \"\";\n",
       "  width: 100%;\n",
       "  border-bottom: 2px solid var(--sklearn-color-text-on-default-background);\n",
       "  flex-grow: 1;\n",
       "}\n",
       "\n",
       "#sk-container-id-1 div.sk-parallel {\n",
       "  display: flex;\n",
       "  align-items: stretch;\n",
       "  justify-content: center;\n",
       "  background-color: var(--sklearn-color-background);\n",
       "  position: relative;\n",
       "}\n",
       "\n",
       "#sk-container-id-1 div.sk-parallel-item {\n",
       "  display: flex;\n",
       "  flex-direction: column;\n",
       "}\n",
       "\n",
       "#sk-container-id-1 div.sk-parallel-item:first-child::after {\n",
       "  align-self: flex-end;\n",
       "  width: 50%;\n",
       "}\n",
       "\n",
       "#sk-container-id-1 div.sk-parallel-item:last-child::after {\n",
       "  align-self: flex-start;\n",
       "  width: 50%;\n",
       "}\n",
       "\n",
       "#sk-container-id-1 div.sk-parallel-item:only-child::after {\n",
       "  width: 0;\n",
       "}\n",
       "\n",
       "/* Serial-specific style estimator block */\n",
       "\n",
       "#sk-container-id-1 div.sk-serial {\n",
       "  display: flex;\n",
       "  flex-direction: column;\n",
       "  align-items: center;\n",
       "  background-color: var(--sklearn-color-background);\n",
       "  padding-right: 1em;\n",
       "  padding-left: 1em;\n",
       "}\n",
       "\n",
       "\n",
       "/* Toggleable style: style used for estimator/Pipeline/ColumnTransformer box that is\n",
       "clickable and can be expanded/collapsed.\n",
       "- Pipeline and ColumnTransformer use this feature and define the default style\n",
       "- Estimators will overwrite some part of the style using the `sk-estimator` class\n",
       "*/\n",
       "\n",
       "/* Pipeline and ColumnTransformer style (default) */\n",
       "\n",
       "#sk-container-id-1 div.sk-toggleable {\n",
       "  /* Default theme specific background. It is overwritten whether we have a\n",
       "  specific estimator or a Pipeline/ColumnTransformer */\n",
       "  background-color: var(--sklearn-color-background);\n",
       "}\n",
       "\n",
       "/* Toggleable label */\n",
       "#sk-container-id-1 label.sk-toggleable__label {\n",
       "  cursor: pointer;\n",
       "  display: block;\n",
       "  width: 100%;\n",
       "  margin-bottom: 0;\n",
       "  padding: 0.5em;\n",
       "  box-sizing: border-box;\n",
       "  text-align: center;\n",
       "}\n",
       "\n",
       "#sk-container-id-1 label.sk-toggleable__label-arrow:before {\n",
       "  /* Arrow on the left of the label */\n",
       "  content: \"▸\";\n",
       "  float: left;\n",
       "  margin-right: 0.25em;\n",
       "  color: var(--sklearn-color-icon);\n",
       "}\n",
       "\n",
       "#sk-container-id-1 label.sk-toggleable__label-arrow:hover:before {\n",
       "  color: var(--sklearn-color-text);\n",
       "}\n",
       "\n",
       "/* Toggleable content - dropdown */\n",
       "\n",
       "#sk-container-id-1 div.sk-toggleable__content {\n",
       "  max-height: 0;\n",
       "  max-width: 0;\n",
       "  overflow: hidden;\n",
       "  text-align: left;\n",
       "  /* unfitted */\n",
       "  background-color: var(--sklearn-color-unfitted-level-0);\n",
       "}\n",
       "\n",
       "#sk-container-id-1 div.sk-toggleable__content.fitted {\n",
       "  /* fitted */\n",
       "  background-color: var(--sklearn-color-fitted-level-0);\n",
       "}\n",
       "\n",
       "#sk-container-id-1 div.sk-toggleable__content pre {\n",
       "  margin: 0.2em;\n",
       "  border-radius: 0.25em;\n",
       "  color: var(--sklearn-color-text);\n",
       "  /* unfitted */\n",
       "  background-color: var(--sklearn-color-unfitted-level-0);\n",
       "}\n",
       "\n",
       "#sk-container-id-1 div.sk-toggleable__content.fitted pre {\n",
       "  /* unfitted */\n",
       "  background-color: var(--sklearn-color-fitted-level-0);\n",
       "}\n",
       "\n",
       "#sk-container-id-1 input.sk-toggleable__control:checked~div.sk-toggleable__content {\n",
       "  /* Expand drop-down */\n",
       "  max-height: 200px;\n",
       "  max-width: 100%;\n",
       "  overflow: auto;\n",
       "}\n",
       "\n",
       "#sk-container-id-1 input.sk-toggleable__control:checked~label.sk-toggleable__label-arrow:before {\n",
       "  content: \"▾\";\n",
       "}\n",
       "\n",
       "/* Pipeline/ColumnTransformer-specific style */\n",
       "\n",
       "#sk-container-id-1 div.sk-label input.sk-toggleable__control:checked~label.sk-toggleable__label {\n",
       "  color: var(--sklearn-color-text);\n",
       "  background-color: var(--sklearn-color-unfitted-level-2);\n",
       "}\n",
       "\n",
       "#sk-container-id-1 div.sk-label.fitted input.sk-toggleable__control:checked~label.sk-toggleable__label {\n",
       "  background-color: var(--sklearn-color-fitted-level-2);\n",
       "}\n",
       "\n",
       "/* Estimator-specific style */\n",
       "\n",
       "/* Colorize estimator box */\n",
       "#sk-container-id-1 div.sk-estimator input.sk-toggleable__control:checked~label.sk-toggleable__label {\n",
       "  /* unfitted */\n",
       "  background-color: var(--sklearn-color-unfitted-level-2);\n",
       "}\n",
       "\n",
       "#sk-container-id-1 div.sk-estimator.fitted input.sk-toggleable__control:checked~label.sk-toggleable__label {\n",
       "  /* fitted */\n",
       "  background-color: var(--sklearn-color-fitted-level-2);\n",
       "}\n",
       "\n",
       "#sk-container-id-1 div.sk-label label.sk-toggleable__label,\n",
       "#sk-container-id-1 div.sk-label label {\n",
       "  /* The background is the default theme color */\n",
       "  color: var(--sklearn-color-text-on-default-background);\n",
       "}\n",
       "\n",
       "/* On hover, darken the color of the background */\n",
       "#sk-container-id-1 div.sk-label:hover label.sk-toggleable__label {\n",
       "  color: var(--sklearn-color-text);\n",
       "  background-color: var(--sklearn-color-unfitted-level-2);\n",
       "}\n",
       "\n",
       "/* Label box, darken color on hover, fitted */\n",
       "#sk-container-id-1 div.sk-label.fitted:hover label.sk-toggleable__label.fitted {\n",
       "  color: var(--sklearn-color-text);\n",
       "  background-color: var(--sklearn-color-fitted-level-2);\n",
       "}\n",
       "\n",
       "/* Estimator label */\n",
       "\n",
       "#sk-container-id-1 div.sk-label label {\n",
       "  font-family: monospace;\n",
       "  font-weight: bold;\n",
       "  display: inline-block;\n",
       "  line-height: 1.2em;\n",
       "}\n",
       "\n",
       "#sk-container-id-1 div.sk-label-container {\n",
       "  text-align: center;\n",
       "}\n",
       "\n",
       "/* Estimator-specific */\n",
       "#sk-container-id-1 div.sk-estimator {\n",
       "  font-family: monospace;\n",
       "  border: 1px dotted var(--sklearn-color-border-box);\n",
       "  border-radius: 0.25em;\n",
       "  box-sizing: border-box;\n",
       "  margin-bottom: 0.5em;\n",
       "  /* unfitted */\n",
       "  background-color: var(--sklearn-color-unfitted-level-0);\n",
       "}\n",
       "\n",
       "#sk-container-id-1 div.sk-estimator.fitted {\n",
       "  /* fitted */\n",
       "  background-color: var(--sklearn-color-fitted-level-0);\n",
       "}\n",
       "\n",
       "/* on hover */\n",
       "#sk-container-id-1 div.sk-estimator:hover {\n",
       "  /* unfitted */\n",
       "  background-color: var(--sklearn-color-unfitted-level-2);\n",
       "}\n",
       "\n",
       "#sk-container-id-1 div.sk-estimator.fitted:hover {\n",
       "  /* fitted */\n",
       "  background-color: var(--sklearn-color-fitted-level-2);\n",
       "}\n",
       "\n",
       "/* Specification for estimator info (e.g. \"i\" and \"?\") */\n",
       "\n",
       "/* Common style for \"i\" and \"?\" */\n",
       "\n",
       ".sk-estimator-doc-link,\n",
       "a:link.sk-estimator-doc-link,\n",
       "a:visited.sk-estimator-doc-link {\n",
       "  float: right;\n",
       "  font-size: smaller;\n",
       "  line-height: 1em;\n",
       "  font-family: monospace;\n",
       "  background-color: var(--sklearn-color-background);\n",
       "  border-radius: 1em;\n",
       "  height: 1em;\n",
       "  width: 1em;\n",
       "  text-decoration: none !important;\n",
       "  margin-left: 1ex;\n",
       "  /* unfitted */\n",
       "  border: var(--sklearn-color-unfitted-level-1) 1pt solid;\n",
       "  color: var(--sklearn-color-unfitted-level-1);\n",
       "}\n",
       "\n",
       ".sk-estimator-doc-link.fitted,\n",
       "a:link.sk-estimator-doc-link.fitted,\n",
       "a:visited.sk-estimator-doc-link.fitted {\n",
       "  /* fitted */\n",
       "  border: var(--sklearn-color-fitted-level-1) 1pt solid;\n",
       "  color: var(--sklearn-color-fitted-level-1);\n",
       "}\n",
       "\n",
       "/* On hover */\n",
       "div.sk-estimator:hover .sk-estimator-doc-link:hover,\n",
       ".sk-estimator-doc-link:hover,\n",
       "div.sk-label-container:hover .sk-estimator-doc-link:hover,\n",
       ".sk-estimator-doc-link:hover {\n",
       "  /* unfitted */\n",
       "  background-color: var(--sklearn-color-unfitted-level-3);\n",
       "  color: var(--sklearn-color-background);\n",
       "  text-decoration: none;\n",
       "}\n",
       "\n",
       "div.sk-estimator.fitted:hover .sk-estimator-doc-link.fitted:hover,\n",
       ".sk-estimator-doc-link.fitted:hover,\n",
       "div.sk-label-container:hover .sk-estimator-doc-link.fitted:hover,\n",
       ".sk-estimator-doc-link.fitted:hover {\n",
       "  /* fitted */\n",
       "  background-color: var(--sklearn-color-fitted-level-3);\n",
       "  color: var(--sklearn-color-background);\n",
       "  text-decoration: none;\n",
       "}\n",
       "\n",
       "/* Span, style for the box shown on hovering the info icon */\n",
       ".sk-estimator-doc-link span {\n",
       "  display: none;\n",
       "  z-index: 9999;\n",
       "  position: relative;\n",
       "  font-weight: normal;\n",
       "  right: .2ex;\n",
       "  padding: .5ex;\n",
       "  margin: .5ex;\n",
       "  width: min-content;\n",
       "  min-width: 20ex;\n",
       "  max-width: 50ex;\n",
       "  color: var(--sklearn-color-text);\n",
       "  box-shadow: 2pt 2pt 4pt #999;\n",
       "  /* unfitted */\n",
       "  background: var(--sklearn-color-unfitted-level-0);\n",
       "  border: .5pt solid var(--sklearn-color-unfitted-level-3);\n",
       "}\n",
       "\n",
       ".sk-estimator-doc-link.fitted span {\n",
       "  /* fitted */\n",
       "  background: var(--sklearn-color-fitted-level-0);\n",
       "  border: var(--sklearn-color-fitted-level-3);\n",
       "}\n",
       "\n",
       ".sk-estimator-doc-link:hover span {\n",
       "  display: block;\n",
       "}\n",
       "\n",
       "/* \"?\"-specific style due to the `<a>` HTML tag */\n",
       "\n",
       "#sk-container-id-1 a.estimator_doc_link {\n",
       "  float: right;\n",
       "  font-size: 1rem;\n",
       "  line-height: 1em;\n",
       "  font-family: monospace;\n",
       "  background-color: var(--sklearn-color-background);\n",
       "  border-radius: 1rem;\n",
       "  height: 1rem;\n",
       "  width: 1rem;\n",
       "  text-decoration: none;\n",
       "  /* unfitted */\n",
       "  color: var(--sklearn-color-unfitted-level-1);\n",
       "  border: var(--sklearn-color-unfitted-level-1) 1pt solid;\n",
       "}\n",
       "\n",
       "#sk-container-id-1 a.estimator_doc_link.fitted {\n",
       "  /* fitted */\n",
       "  border: var(--sklearn-color-fitted-level-1) 1pt solid;\n",
       "  color: var(--sklearn-color-fitted-level-1);\n",
       "}\n",
       "\n",
       "/* On hover */\n",
       "#sk-container-id-1 a.estimator_doc_link:hover {\n",
       "  /* unfitted */\n",
       "  background-color: var(--sklearn-color-unfitted-level-3);\n",
       "  color: var(--sklearn-color-background);\n",
       "  text-decoration: none;\n",
       "}\n",
       "\n",
       "#sk-container-id-1 a.estimator_doc_link.fitted:hover {\n",
       "  /* fitted */\n",
       "  background-color: var(--sklearn-color-fitted-level-3);\n",
       "}\n",
       "</style><div id=\"sk-container-id-1\" class=\"sk-top-container\"><div class=\"sk-text-repr-fallback\"><pre>LinearRegression()</pre><b>In a Jupyter environment, please rerun this cell to show the HTML representation or trust the notebook. <br />On GitHub, the HTML representation is unable to render, please try loading this page with nbviewer.org.</b></div><div class=\"sk-container\" hidden><div class=\"sk-item\"><div class=\"sk-estimator fitted sk-toggleable\"><input class=\"sk-toggleable__control sk-hidden--visually\" id=\"sk-estimator-id-1\" type=\"checkbox\" checked><label for=\"sk-estimator-id-1\" class=\"sk-toggleable__label fitted sk-toggleable__label-arrow fitted\">&nbsp;&nbsp;LinearRegression<a class=\"sk-estimator-doc-link fitted\" rel=\"noreferrer\" target=\"_blank\" href=\"https://scikit-learn.org/1.5/modules/generated/sklearn.linear_model.LinearRegression.html\">?<span>Documentation for LinearRegression</span></a><span class=\"sk-estimator-doc-link fitted\">i<span>Fitted</span></span></label><div class=\"sk-toggleable__content fitted\"><pre>LinearRegression()</pre></div> </div></div></div></div>"
      ],
      "text/plain": [
       "LinearRegression()"
      ]
     },
     "execution_count": 5,
     "metadata": {},
     "output_type": "execute_result"
    }
   ],
   "source": [
    "from sklearn.linear_model import LinearRegression\n",
    "lr_sample = LinearRegression()\n",
    "lr_sample.fit(X_train, y_train)"
   ]
  },
  {
   "cell_type": "markdown",
   "metadata": {},
   "source": [
    "##### Step 5: Observe some of the outputs in the `train` set."
   ]
  },
  {
   "cell_type": "code",
   "execution_count": 6,
   "metadata": {
    "colab": {
     "base_uri": "https://localhost:8080/"
    },
    "executionInfo": {
     "elapsed": 214,
     "status": "ok",
     "timestamp": 1699382654994,
     "user": {
      "displayName": "Alibek Kruglikov",
      "userId": "12107629968185180200"
     },
     "user_tz": 300
    },
    "id": "xZ_dAYlMvoR4",
    "outputId": "9f841b29-cc93-44e5-a21b-492b5fb25ff4"
   },
   "outputs": [
    {
     "data": {
      "text/plain": [
       "array([17.62058075, 20.11357862, 25.09957436, 12.634585  , 27.59257223])"
      ]
     },
     "execution_count": 6,
     "metadata": {},
     "output_type": "execute_result"
    }
   ],
   "source": [
    "lr_sample.predict(X_train)[:5]"
   ]
  },
  {
   "cell_type": "code",
   "execution_count": 7,
   "metadata": {},
   "outputs": [
    {
     "data": {
      "text/plain": [
       "array([18.7002218 , 23.09371016, 27.84047591,  9.24645982, 30.72015875])"
      ]
     },
     "execution_count": 7,
     "metadata": {},
     "output_type": "execute_result"
    }
   ],
   "source": [
    "y_train[:5]"
   ]
  },
  {
   "cell_type": "markdown",
   "metadata": {},
   "source": [
    "##### Step 6: Observe some of the outputs in the `test` set."
   ]
  },
  {
   "cell_type": "code",
   "execution_count": 8,
   "metadata": {},
   "outputs": [
    {
     "data": {
      "text/plain": [
       "array([17.62058075, 27.59257223, 20.11357862, 25.09957436, 12.634585  ])"
      ]
     },
     "execution_count": 8,
     "metadata": {},
     "output_type": "execute_result"
    }
   ],
   "source": [
    "lr_sample.predict(X_test)[:5]"
   ]
  },
  {
   "cell_type": "code",
   "execution_count": 9,
   "metadata": {},
   "outputs": [
    {
     "data": {
      "text/plain": [
       "array([16.21165539, 28.80351029, 23.433057  , 26.89351191, 13.10162284])"
      ]
     },
     "execution_count": 9,
     "metadata": {},
     "output_type": "execute_result"
    }
   ],
   "source": [
    "y_test[:5]"
   ]
  },
  {
   "cell_type": "markdown",
   "metadata": {},
   "source": [
    "##### Step 7: Compare the scores"
   ]
  },
  {
   "cell_type": "code",
   "execution_count": 10,
   "metadata": {},
   "outputs": [
    {
     "data": {
      "text/plain": [
       "0.8309714784972858"
      ]
     },
     "execution_count": 10,
     "metadata": {},
     "output_type": "execute_result"
    }
   ],
   "source": [
    "lr_sample.score(X_train, y_train)"
   ]
  },
  {
   "cell_type": "code",
   "execution_count": 11,
   "metadata": {},
   "outputs": [
    {
     "data": {
      "text/plain": [
       "0.82765549336117"
      ]
     },
     "execution_count": 11,
     "metadata": {},
     "output_type": "execute_result"
    }
   ],
   "source": [
    "lr_sample.score(X_test, y_test)"
   ]
  },
  {
   "cell_type": "code",
   "execution_count": 12,
   "metadata": {
    "colab": {
     "base_uri": "https://localhost:8080/",
     "height": 447
    },
    "executionInfo": {
     "elapsed": 658,
     "status": "ok",
     "timestamp": 1699382745404,
     "user": {
      "displayName": "Alibek Kruglikov",
      "userId": "12107629968185180200"
     },
     "user_tz": 300
    },
    "id": "A-4auud9voR5",
    "outputId": "210268df-86e2-49bd-b7ba-3b3718bcda03"
   },
   "outputs": [
    {
     "data": {
      "image/png": "[encoded data removed]",
      "text/plain": [
       "<Figure size 1400x700 with 2 Axes>"
      ]
     },
     "metadata": {},
     "output_type": "display_data"
    }
   ],
   "source": [
    "fig, axes = plt.subplots(nrows=1, ncols=2, figsize=(14, 7))\n",
    "\n",
    "axes[0].scatter(X_train, y_train, marker='o', s=2)\n",
    "axes[0].set_title('Coffee vs Productivity', fontsize=16)\n",
    "axes[0].set_xlabel('Cups of Coffee')\n",
    "axes[0].set_ylabel('Productivity (completed tasks)')\n",
    "\n",
    "axes[1].scatter(X_train, y_train, marker='o', alpha=0.5, s=2)\n",
    "axes[1].plot(X_train, (lr_sample.coef_ * X_train) + lr_sample.intercept_, c='black')\n",
    "axes[1].set_title('Coffee vs Productivity (with regression)', fontsize=16)\n",
    "axes[1].set_xlabel('Cups of Coffee')\n",
    "axes[1].set_ylabel('Productivity (completed tasks)')\n",
    "axes[1].text(\n",
    "    x=0.4,\n",
    "    y=0.08,\n",
    "    s='$\\\\hat{y}=-350.7x+7.7$',\n",
    "    fontsize=18,\n",
    "    fontweight='bold',\n",
    "    transform=axes[1].transAxes\n",
    ")\n",
    "\n",
    "plt.show()"
   ]
  },
  {
   "cell_type": "markdown",
   "metadata": {},
   "source": [
    "- The intuition behind **Linear Regression** is in the **coefficients** and **intercept**.\n",
    "\n",
    "- Some literature refer to the **coefficients** as **weights** and the **intercept** as the **bias**. These are the parameters that are being learned during **fit** or **training**.\n",
    "\n",
    "- In `sklearn` you can access them with the attributes `.coef_` and `.intercept_`"
   ]
  },
  {
   "cell_type": "code",
   "execution_count": 13,
   "metadata": {
    "colab": {
     "base_uri": "https://localhost:8080/"
    },
    "executionInfo": {
     "elapsed": 243,
     "status": "ok",
     "timestamp": 1699382699881,
     "user": {
      "displayName": "Alibek Kruglikov",
      "userId": "12107629968185180200"
     },
     "user_tz": 300
    },
    "id": "8xd6dnrJvoR4",
    "outputId": "6b1393b2-9a7c-46c2-956c-9a5079e7e78c"
   },
   "outputs": [
    {
     "data": {
      "text/plain": [
       "array([2.49299787])"
      ]
     },
     "execution_count": 13,
     "metadata": {},
     "output_type": "execute_result"
    }
   ],
   "source": [
    "lr_sample.coef_"
   ]
  },
  {
   "cell_type": "code",
   "execution_count": 14,
   "metadata": {
    "colab": {
     "base_uri": "https://localhost:8080/"
    },
    "executionInfo": {
     "elapsed": 331,
     "status": "ok",
     "timestamp": 1699382715331,
     "user": {
      "displayName": "Alibek Kruglikov",
      "userId": "12107629968185180200"
     },
     "user_tz": 300
    },
    "id": "OL9Ev62ivoR5",
    "outputId": "3ad0f925-a3ce-4d7e-bcb0-c8cb969761fc"
   },
   "outputs": [
    {
     "data": {
      "text/plain": [
       "np.float64(5.155591389534953)"
      ]
     },
     "execution_count": 14,
     "metadata": {},
     "output_type": "execute_result"
    }
   ],
   "source": [
    "lr_sample.intercept_"
   ]
  },
  {
   "cell_type": "markdown",
   "metadata": {},
   "source": [
    "##### Step 8: New observations\n",
    "\n",
    "Sarah is interviewing new potential candidates for her team. In the interview she asks the following questions:\n",
    "- How many cups of coffee do you drink in the morning?\n",
    "\n",
    "She then gathers the following rows of data:"
   ]
  },
  {
   "cell_type": "code",
   "execution_count": 15,
   "metadata": {},
   "outputs": [
    {
     "data": {
      "text/html": [
       "<div>\n",
       "<style scoped>\n",
       "    .dataframe tbody tr th:only-of-type {\n",
       "        vertical-align: middle;\n",
       "    }\n",
       "\n",
       "    .dataframe tbody tr th {\n",
       "        vertical-align: top;\n",
       "    }\n",
       "\n",
       "    .dataframe thead th {\n",
       "        text-align: right;\n",
       "    }\n",
       "</style>\n",
       "<table border=\"1\" class=\"dataframe\">\n",
       "  <thead>\n",
       "    <tr style=\"text-align: right;\">\n",
       "      <th></th>\n",
       "      <th>Coffee_Cups</th>\n",
       "    </tr>\n",
       "  </thead>\n",
       "  <tbody>\n",
       "    <tr>\n",
       "      <th>0</th>\n",
       "      <td>4</td>\n",
       "    </tr>\n",
       "    <tr>\n",
       "      <th>1</th>\n",
       "      <td>5</td>\n",
       "    </tr>\n",
       "  </tbody>\n",
       "</table>\n",
       "</div>"
      ],
      "text/plain": [
       "   Coffee_Cups\n",
       "0            4\n",
       "1            5"
      ]
     },
     "execution_count": 15,
     "metadata": {},
     "output_type": "execute_result"
    }
   ],
   "source": [
    "new_obs = pd.DataFrame({'Coffee_Cups': [4,5]})\n",
    "new_obs"
   ]
  },
  {
   "cell_type": "markdown",
   "metadata": {},
   "source": [
    "##### Step 9a: Calculation by Hand"
   ]
  },
  {
   "cell_type": "code",
   "execution_count": 16,
   "metadata": {},
   "outputs": [
    {
     "data": {
      "text/plain": [
       "array([15.12758288])"
      ]
     },
     "execution_count": 16,
     "metadata": {},
     "output_type": "execute_result"
    }
   ],
   "source": [
    "# First person:\n",
    "lr_sample.coef_*new_obs.loc[0, 'Coffee_Cups'] + lr_sample.intercept_"
   ]
  },
  {
   "cell_type": "code",
   "execution_count": 17,
   "metadata": {},
   "outputs": [
    {
     "data": {
      "text/plain": [
       "array([17.62058075])"
      ]
     },
     "execution_count": 17,
     "metadata": {},
     "output_type": "execute_result"
    }
   ],
   "source": [
    "# Second person:\n",
    "lr_sample.coef_*new_obs.loc[1, 'Coffee_Cups'] + lr_sample.intercept_"
   ]
  },
  {
   "cell_type": "markdown",
   "metadata": {},
   "source": [
    "##### Step 9b: Calculation using `sklearn` `.predict()`"
   ]
  },
  {
   "cell_type": "code",
   "execution_count": 18,
   "metadata": {},
   "outputs": [
    {
     "data": {
      "text/plain": [
       "array([15.12758288, 17.62058075])"
      ]
     },
     "execution_count": 18,
     "metadata": {},
     "output_type": "execute_result"
    }
   ],
   "source": [
    "y_pred = lr_sample.predict(new_obs['Coffee_Cups'].values.reshape(-1, 1))\n",
    "y_pred"
   ]
  },
  {
   "cell_type": "markdown",
   "metadata": {
    "id": "Vnq76_xjvoR5"
   },
   "source": [
    "## Multivariable Regression\n",
    "\n",
    "As Sarah digs deeper into the data, she begins to wonder, \"Is coffee the only thing driving productivity? Could there be other factors at play?\" One day, after observing that some team members seemed especially sluggish despite their high coffee intake, Sarah realizes that sleep might also be a factor.\n",
    "\n",
    "Sarah decides to test her hypothesis. In addition to tracking coffee consumption, she starts asking her team to report their hours of sleep each day. Over the next month, Sarah records this new variable.\n",
    "\n",
    "After collecting enough data, Sarah now has three columns:\n",
    "\n",
    "    1. Coffee consumption (cups per day).\n",
    "    2. Hours of sleep (hours per night).\n",
    "    3. Productivity (number of tasks achieved in the day)."
   ]
  },
  {
   "cell_type": "code",
   "execution_count": 19,
   "metadata": {},
   "outputs": [
    {
     "data": {
      "text/html": [
       "<div>\n",
       "<style scoped>\n",
       "    .dataframe tbody tr th:only-of-type {\n",
       "        vertical-align: middle;\n",
       "    }\n",
       "\n",
       "    .dataframe tbody tr th {\n",
       "        vertical-align: top;\n",
       "    }\n",
       "\n",
       "    .dataframe thead th {\n",
       "        text-align: right;\n",
       "    }\n",
       "</style>\n",
       "<table border=\"1\" class=\"dataframe\">\n",
       "  <thead>\n",
       "    <tr style=\"text-align: right;\">\n",
       "      <th></th>\n",
       "      <th>Coffee_Cups</th>\n",
       "      <th>Hours_Sleep</th>\n",
       "      <th>Productivity</th>\n",
       "    </tr>\n",
       "  </thead>\n",
       "  <tbody>\n",
       "    <tr>\n",
       "      <th>0</th>\n",
       "      <td>7</td>\n",
       "      <td>7.605595</td>\n",
       "      <td>24.851737</td>\n",
       "    </tr>\n",
       "    <tr>\n",
       "      <th>1</th>\n",
       "      <td>4</td>\n",
       "      <td>6.963707</td>\n",
       "      <td>12.687456</td>\n",
       "    </tr>\n",
       "    <tr>\n",
       "      <th>2</th>\n",
       "      <td>8</td>\n",
       "      <td>5.644447</td>\n",
       "      <td>21.917630</td>\n",
       "    </tr>\n",
       "    <tr>\n",
       "      <th>3</th>\n",
       "      <td>5</td>\n",
       "      <td>7.486539</td>\n",
       "      <td>19.208558</td>\n",
       "    </tr>\n",
       "    <tr>\n",
       "      <th>4</th>\n",
       "      <td>7</td>\n",
       "      <td>5.231440</td>\n",
       "      <td>17.402905</td>\n",
       "    </tr>\n",
       "  </tbody>\n",
       "</table>\n",
       "</div>"
      ],
      "text/plain": [
       "   Coffee_Cups  Hours_Sleep  Productivity\n",
       "0            7     7.605595     24.851737\n",
       "1            4     6.963707     12.687456\n",
       "2            8     5.644447     21.917630\n",
       "3            5     7.486539     19.208558\n",
       "4            7     5.231440     17.402905"
      ]
     },
     "execution_count": 19,
     "metadata": {},
     "output_type": "execute_result"
    }
   ],
   "source": [
    "df = pd.read_csv('data/coffee_productivity.csv')\n",
    "df.head()"
   ]
  },
  {
   "cell_type": "code",
   "execution_count": 20,
   "metadata": {},
   "outputs": [],
   "source": [
    "X = df.drop(columns=['Productivity'])\n",
    "y = df['Productivity'].values"
   ]
  },
  {
   "cell_type": "code",
   "execution_count": 21,
   "metadata": {},
   "outputs": [],
   "source": [
    "X_train, X_test, y_train, y_test = train_test_split(X, y, test_size=0.2, random_state=42)"
   ]
  },
  {
   "cell_type": "markdown",
   "metadata": {},
   "source": [
    "##### Additional step: Scale the data so that it is comparable."
   ]
  },
  {
   "cell_type": "code",
   "execution_count": 22,
   "metadata": {},
   "outputs": [],
   "source": [
    "from sklearn.preprocessing import StandardScaler\n",
    "\n",
    "scaler = StandardScaler()\n",
    "X_train_scaled = scaler.fit_transform(X_train)"
   ]
  },
  {
   "cell_type": "markdown",
   "metadata": {},
   "source": [
    "##### Important\n",
    "**Never** do `.fit_transform()` on `test` data. **Always** use `.transform()` only."
   ]
  },
  {
   "cell_type": "code",
   "execution_count": 23,
   "metadata": {},
   "outputs": [],
   "source": [
    "X_test_scaled = scaler.transform(X_test)"
   ]
  },
  {
   "cell_type": "code",
   "execution_count": 24,
   "metadata": {},
   "outputs": [
    {
     "data": {
      "text/html": [
       "<style>#sk-container-id-2 {\n",
       "  /* Definition of color scheme common for light and dark mode */\n",
       "  --sklearn-color-text: black;\n",
       "  --sklearn-color-line: gray;\n",
       "  /* Definition of color scheme for unfitted estimators */\n",
       "  --sklearn-color-unfitted-level-0: #fff5e6;\n",
       "  --sklearn-color-unfitted-level-1: #f6e4d2;\n",
       "  --sklearn-color-unfitted-level-2: #ffe0b3;\n",
       "  --sklearn-color-unfitted-level-3: chocolate;\n",
       "  /* Definition of color scheme for fitted estimators */\n",
       "  --sklearn-color-fitted-level-0: #f0f8ff;\n",
       "  --sklearn-color-fitted-level-1: #d4ebff;\n",
       "  --sklearn-color-fitted-level-2: #b3dbfd;\n",
       "  --sklearn-color-fitted-level-3: cornflowerblue;\n",
       "\n",
       "  /* Specific color for light theme */\n",
       "  --sklearn-color-text-on-default-background: var(--sg-text-color, var(--theme-code-foreground, var(--jp-content-font-color1, black)));\n",
       "  --sklearn-color-background: var(--sg-background-color, var(--theme-background, var(--jp-layout-color0, white)));\n",
       "  --sklearn-color-border-box: var(--sg-text-color, var(--theme-code-foreground, var(--jp-content-font-color1, black)));\n",
       "  --sklearn-color-icon: #696969;\n",
       "\n",
       "  @media (prefers-color-scheme: dark) {\n",
       "    /* Redefinition of color scheme for dark theme */\n",
       "    --sklearn-color-text-on-default-background: var(--sg-text-color, var(--theme-code-foreground, var(--jp-content-font-color1, white)));\n",
       "    --sklearn-color-background: var(--sg-background-color, var(--theme-background, var(--jp-layout-color0, #111)));\n",
       "    --sklearn-color-border-box: var(--sg-text-color, var(--theme-code-foreground, var(--jp-content-font-color1, white)));\n",
       "    --sklearn-color-icon: #878787;\n",
       "  }\n",
       "}\n",
       "\n",
       "#sk-container-id-2 {\n",
       "  color: var(--sklearn-color-text);\n",
       "}\n",
       "\n",
       "#sk-container-id-2 pre {\n",
       "  padding: 0;\n",
       "}\n",
       "\n",
       "#sk-container-id-2 input.sk-hidden--visually {\n",
       "  border: 0;\n",
       "  clip: rect(1px 1px 1px 1px);\n",
       "  clip: rect(1px, 1px, 1px, 1px);\n",
       "  height: 1px;\n",
       "  margin: -1px;\n",
       "  overflow: hidden;\n",
       "  padding: 0;\n",
       "  position: absolute;\n",
       "  width: 1px;\n",
       "}\n",
       "\n",
       "#sk-container-id-2 div.sk-dashed-wrapped {\n",
       "  border: 1px dashed var(--sklearn-color-line);\n",
       "  margin: 0 0.4em 0.5em 0.4em;\n",
       "  box-sizing: border-box;\n",
       "  padding-bottom: 0.4em;\n",
       "  background-color: var(--sklearn-color-background);\n",
       "}\n",
       "\n",
       "#sk-container-id-2 div.sk-container {\n",
       "  /* jupyter's `normalize.less` sets `[hidden] { display: none; }`\n",
       "     but bootstrap.min.css set `[hidden] { display: none !important; }`\n",
       "     so we also need the `!important` here to be able to override the\n",
       "     default hidden behavior on the sphinx rendered scikit-learn.org.\n",
       "     See: https://github.com/scikit-learn/scikit-learn/issues/21755 */\n",
       "  display: inline-block !important;\n",
       "  position: relative;\n",
       "}\n",
       "\n",
       "#sk-container-id-2 div.sk-text-repr-fallback {\n",
       "  display: none;\n",
       "}\n",
       "\n",
       "div.sk-parallel-item,\n",
       "div.sk-serial,\n",
       "div.sk-item {\n",
       "  /* draw centered vertical line to link estimators */\n",
       "  background-image: linear-gradient(var(--sklearn-color-text-on-default-background), var(--sklearn-color-text-on-default-background));\n",
       "  background-size: 2px 100%;\n",
       "  background-repeat: no-repeat;\n",
       "  background-position: center center;\n",
       "}\n",
       "\n",
       "/* Parallel-specific style estimator block */\n",
       "\n",
       "#sk-container-id-2 div.sk-parallel-item::after {\n",
       "  content: \"\";\n",
       "  width: 100%;\n",
       "  border-bottom: 2px solid var(--sklearn-color-text-on-default-background);\n",
       "  flex-grow: 1;\n",
       "}\n",
       "\n",
       "#sk-container-id-2 div.sk-parallel {\n",
       "  display: flex;\n",
       "  align-items: stretch;\n",
       "  justify-content: center;\n",
       "  background-color: var(--sklearn-color-background);\n",
       "  position: relative;\n",
       "}\n",
       "\n",
       "#sk-container-id-2 div.sk-parallel-item {\n",
       "  display: flex;\n",
       "  flex-direction: column;\n",
       "}\n",
       "\n",
       "#sk-container-id-2 div.sk-parallel-item:first-child::after {\n",
       "  align-self: flex-end;\n",
       "  width: 50%;\n",
       "}\n",
       "\n",
       "#sk-container-id-2 div.sk-parallel-item:last-child::after {\n",
       "  align-self: flex-start;\n",
       "  width: 50%;\n",
       "}\n",
       "\n",
       "#sk-container-id-2 div.sk-parallel-item:only-child::after {\n",
       "  width: 0;\n",
       "}\n",
       "\n",
       "/* Serial-specific style estimator block */\n",
       "\n",
       "#sk-container-id-2 div.sk-serial {\n",
       "  display: flex;\n",
       "  flex-direction: column;\n",
       "  align-items: center;\n",
       "  background-color: var(--sklearn-color-background);\n",
       "  padding-right: 1em;\n",
       "  padding-left: 1em;\n",
       "}\n",
       "\n",
       "\n",
       "/* Toggleable style: style used for estimator/Pipeline/ColumnTransformer box that is\n",
       "clickable and can be expanded/collapsed.\n",
       "- Pipeline and ColumnTransformer use this feature and define the default style\n",
       "- Estimators will overwrite some part of the style using the `sk-estimator` class\n",
       "*/\n",
       "\n",
       "/* Pipeline and ColumnTransformer style (default) */\n",
       "\n",
       "#sk-container-id-2 div.sk-toggleable {\n",
       "  /* Default theme specific background. It is overwritten whether we have a\n",
       "  specific estimator or a Pipeline/ColumnTransformer */\n",
       "  background-color: var(--sklearn-color-background);\n",
       "}\n",
       "\n",
       "/* Toggleable label */\n",
       "#sk-container-id-2 label.sk-toggleable__label {\n",
       "  cursor: pointer;\n",
       "  display: block;\n",
       "  width: 100%;\n",
       "  margin-bottom: 0;\n",
       "  padding: 0.5em;\n",
       "  box-sizing: border-box;\n",
       "  text-align: center;\n",
       "}\n",
       "\n",
       "#sk-container-id-2 label.sk-toggleable__label-arrow:before {\n",
       "  /* Arrow on the left of the label */\n",
       "  content: \"▸\";\n",
       "  float: left;\n",
       "  margin-right: 0.25em;\n",
       "  color: var(--sklearn-color-icon);\n",
       "}\n",
       "\n",
       "#sk-container-id-2 label.sk-toggleable__label-arrow:hover:before {\n",
       "  color: var(--sklearn-color-text);\n",
       "}\n",
       "\n",
       "/* Toggleable content - dropdown */\n",
       "\n",
       "#sk-container-id-2 div.sk-toggleable__content {\n",
       "  max-height: 0;\n",
       "  max-width: 0;\n",
       "  overflow: hidden;\n",
       "  text-align: left;\n",
       "  /* unfitted */\n",
       "  background-color: var(--sklearn-color-unfitted-level-0);\n",
       "}\n",
       "\n",
       "#sk-container-id-2 div.sk-toggleable__content.fitted {\n",
       "  /* fitted */\n",
       "  background-color: var(--sklearn-color-fitted-level-0);\n",
       "}\n",
       "\n",
       "#sk-container-id-2 div.sk-toggleable__content pre {\n",
       "  margin: 0.2em;\n",
       "  border-radius: 0.25em;\n",
       "  color: var(--sklearn-color-text);\n",
       "  /* unfitted */\n",
       "  background-color: var(--sklearn-color-unfitted-level-0);\n",
       "}\n",
       "\n",
       "#sk-container-id-2 div.sk-toggleable__content.fitted pre {\n",
       "  /* unfitted */\n",
       "  background-color: var(--sklearn-color-fitted-level-0);\n",
       "}\n",
       "\n",
       "#sk-container-id-2 input.sk-toggleable__control:checked~div.sk-toggleable__content {\n",
       "  /* Expand drop-down */\n",
       "  max-height: 200px;\n",
       "  max-width: 100%;\n",
       "  overflow: auto;\n",
       "}\n",
       "\n",
       "#sk-container-id-2 input.sk-toggleable__control:checked~label.sk-toggleable__label-arrow:before {\n",
       "  content: \"▾\";\n",
       "}\n",
       "\n",
       "/* Pipeline/ColumnTransformer-specific style */\n",
       "\n",
       "#sk-container-id-2 div.sk-label input.sk-toggleable__control:checked~label.sk-toggleable__label {\n",
       "  color: var(--sklearn-color-text);\n",
       "  background-color: var(--sklearn-color-unfitted-level-2);\n",
       "}\n",
       "\n",
       "#sk-container-id-2 div.sk-label.fitted input.sk-toggleable__control:checked~label.sk-toggleable__label {\n",
       "  background-color: var(--sklearn-color-fitted-level-2);\n",
       "}\n",
       "\n",
       "/* Estimator-specific style */\n",
       "\n",
       "/* Colorize estimator box */\n",
       "#sk-container-id-2 div.sk-estimator input.sk-toggleable__control:checked~label.sk-toggleable__label {\n",
       "  /* unfitted */\n",
       "  background-color: var(--sklearn-color-unfitted-level-2);\n",
       "}\n",
       "\n",
       "#sk-container-id-2 div.sk-estimator.fitted input.sk-toggleable__control:checked~label.sk-toggleable__label {\n",
       "  /* fitted */\n",
       "  background-color: var(--sklearn-color-fitted-level-2);\n",
       "}\n",
       "\n",
       "#sk-container-id-2 div.sk-label label.sk-toggleable__label,\n",
       "#sk-container-id-2 div.sk-label label {\n",
       "  /* The background is the default theme color */\n",
       "  color: var(--sklearn-color-text-on-default-background);\n",
       "}\n",
       "\n",
       "/* On hover, darken the color of the background */\n",
       "#sk-container-id-2 div.sk-label:hover label.sk-toggleable__label {\n",
       "  color: var(--sklearn-color-text);\n",
       "  background-color: var(--sklearn-color-unfitted-level-2);\n",
       "}\n",
       "\n",
       "/* Label box, darken color on hover, fitted */\n",
       "#sk-container-id-2 div.sk-label.fitted:hover label.sk-toggleable__label.fitted {\n",
       "  color: var(--sklearn-color-text);\n",
       "  background-color: var(--sklearn-color-fitted-level-2);\n",
       "}\n",
       "\n",
       "/* Estimator label */\n",
       "\n",
       "#sk-container-id-2 div.sk-label label {\n",
       "  font-family: monospace;\n",
       "  font-weight: bold;\n",
       "  display: inline-block;\n",
       "  line-height: 1.2em;\n",
       "}\n",
       "\n",
       "#sk-container-id-2 div.sk-label-container {\n",
       "  text-align: center;\n",
       "}\n",
       "\n",
       "/* Estimator-specific */\n",
       "#sk-container-id-2 div.sk-estimator {\n",
       "  font-family: monospace;\n",
       "  border: 1px dotted var(--sklearn-color-border-box);\n",
       "  border-radius: 0.25em;\n",
       "  box-sizing: border-box;\n",
       "  margin-bottom: 0.5em;\n",
       "  /* unfitted */\n",
       "  background-color: var(--sklearn-color-unfitted-level-0);\n",
       "}\n",
       "\n",
       "#sk-container-id-2 div.sk-estimator.fitted {\n",
       "  /* fitted */\n",
       "  background-color: var(--sklearn-color-fitted-level-0);\n",
       "}\n",
       "\n",
       "/* on hover */\n",
       "#sk-container-id-2 div.sk-estimator:hover {\n",
       "  /* unfitted */\n",
       "  background-color: var(--sklearn-color-unfitted-level-2);\n",
       "}\n",
       "\n",
       "#sk-container-id-2 div.sk-estimator.fitted:hover {\n",
       "  /* fitted */\n",
       "  background-color: var(--sklearn-color-fitted-level-2);\n",
       "}\n",
       "\n",
       "/* Specification for estimator info (e.g. \"i\" and \"?\") */\n",
       "\n",
       "/* Common style for \"i\" and \"?\" */\n",
       "\n",
       ".sk-estimator-doc-link,\n",
       "a:link.sk-estimator-doc-link,\n",
       "a:visited.sk-estimator-doc-link {\n",
       "  float: right;\n",
       "  font-size: smaller;\n",
       "  line-height: 1em;\n",
       "  font-family: monospace;\n",
       "  background-color: var(--sklearn-color-background);\n",
       "  border-radius: 1em;\n",
       "  height: 1em;\n",
       "  width: 1em;\n",
       "  text-decoration: none !important;\n",
       "  margin-left: 1ex;\n",
       "  /* unfitted */\n",
       "  border: var(--sklearn-color-unfitted-level-1) 1pt solid;\n",
       "  color: var(--sklearn-color-unfitted-level-1);\n",
       "}\n",
       "\n",
       ".sk-estimator-doc-link.fitted,\n",
       "a:link.sk-estimator-doc-link.fitted,\n",
       "a:visited.sk-estimator-doc-link.fitted {\n",
       "  /* fitted */\n",
       "  border: var(--sklearn-color-fitted-level-1) 1pt solid;\n",
       "  color: var(--sklearn-color-fitted-level-1);\n",
       "}\n",
       "\n",
       "/* On hover */\n",
       "div.sk-estimator:hover .sk-estimator-doc-link:hover,\n",
       ".sk-estimator-doc-link:hover,\n",
       "div.sk-label-container:hover .sk-estimator-doc-link:hover,\n",
       ".sk-estimator-doc-link:hover {\n",
       "  /* unfitted */\n",
       "  background-color: var(--sklearn-color-unfitted-level-3);\n",
       "  color: var(--sklearn-color-background);\n",
       "  text-decoration: none;\n",
       "}\n",
       "\n",
       "div.sk-estimator.fitted:hover .sk-estimator-doc-link.fitted:hover,\n",
       ".sk-estimator-doc-link.fitted:hover,\n",
       "div.sk-label-container:hover .sk-estimator-doc-link.fitted:hover,\n",
       ".sk-estimator-doc-link.fitted:hover {\n",
       "  /* fitted */\n",
       "  background-color: var(--sklearn-color-fitted-level-3);\n",
       "  color: var(--sklearn-color-background);\n",
       "  text-decoration: none;\n",
       "}\n",
       "\n",
       "/* Span, style for the box shown on hovering the info icon */\n",
       ".sk-estimator-doc-link span {\n",
       "  display: none;\n",
       "  z-index: 9999;\n",
       "  position: relative;\n",
       "  font-weight: normal;\n",
       "  right: .2ex;\n",
       "  padding: .5ex;\n",
       "  margin: .5ex;\n",
       "  width: min-content;\n",
       "  min-width: 20ex;\n",
       "  max-width: 50ex;\n",
       "  color: var(--sklearn-color-text);\n",
       "  box-shadow: 2pt 2pt 4pt #999;\n",
       "  /* unfitted */\n",
       "  background: var(--sklearn-color-unfitted-level-0);\n",
       "  border: .5pt solid var(--sklearn-color-unfitted-level-3);\n",
       "}\n",
       "\n",
       ".sk-estimator-doc-link.fitted span {\n",
       "  /* fitted */\n",
       "  background: var(--sklearn-color-fitted-level-0);\n",
       "  border: var(--sklearn-color-fitted-level-3);\n",
       "}\n",
       "\n",
       ".sk-estimator-doc-link:hover span {\n",
       "  display: block;\n",
       "}\n",
       "\n",
       "/* \"?\"-specific style due to the `<a>` HTML tag */\n",
       "\n",
       "#sk-container-id-2 a.estimator_doc_link {\n",
       "  float: right;\n",
       "  font-size: 1rem;\n",
       "  line-height: 1em;\n",
       "  font-family: monospace;\n",
       "  background-color: var(--sklearn-color-background);\n",
       "  border-radius: 1rem;\n",
       "  height: 1rem;\n",
       "  width: 1rem;\n",
       "  text-decoration: none;\n",
       "  /* unfitted */\n",
       "  color: var(--sklearn-color-unfitted-level-1);\n",
       "  border: var(--sklearn-color-unfitted-level-1) 1pt solid;\n",
       "}\n",
       "\n",
       "#sk-container-id-2 a.estimator_doc_link.fitted {\n",
       "  /* fitted */\n",
       "  border: var(--sklearn-color-fitted-level-1) 1pt solid;\n",
       "  color: var(--sklearn-color-fitted-level-1);\n",
       "}\n",
       "\n",
       "/* On hover */\n",
       "#sk-container-id-2 a.estimator_doc_link:hover {\n",
       "  /* unfitted */\n",
       "  background-color: var(--sklearn-color-unfitted-level-3);\n",
       "  color: var(--sklearn-color-background);\n",
       "  text-decoration: none;\n",
       "}\n",
       "\n",
       "#sk-container-id-2 a.estimator_doc_link.fitted:hover {\n",
       "  /* fitted */\n",
       "  background-color: var(--sklearn-color-fitted-level-3);\n",
       "}\n",
       "</style><div id=\"sk-container-id-2\" class=\"sk-top-container\"><div class=\"sk-text-repr-fallback\"><pre>LinearRegression()</pre><b>In a Jupyter environment, please rerun this cell to show the HTML representation or trust the notebook. <br />On GitHub, the HTML representation is unable to render, please try loading this page with nbviewer.org.</b></div><div class=\"sk-container\" hidden><div class=\"sk-item\"><div class=\"sk-estimator fitted sk-toggleable\"><input class=\"sk-toggleable__control sk-hidden--visually\" id=\"sk-estimator-id-2\" type=\"checkbox\" checked><label for=\"sk-estimator-id-2\" class=\"sk-toggleable__label fitted sk-toggleable__label-arrow fitted\">&nbsp;&nbsp;LinearRegression<a class=\"sk-estimator-doc-link fitted\" rel=\"noreferrer\" target=\"_blank\" href=\"https://scikit-learn.org/1.5/modules/generated/sklearn.linear_model.LinearRegression.html\">?<span>Documentation for LinearRegression</span></a><span class=\"sk-estimator-doc-link fitted\">i<span>Fitted</span></span></label><div class=\"sk-toggleable__content fitted\"><pre>LinearRegression()</pre></div> </div></div></div></div>"
      ],
      "text/plain": [
       "LinearRegression()"
      ]
     },
     "execution_count": 24,
     "metadata": {},
     "output_type": "execute_result"
    }
   ],
   "source": [
    "lr = LinearRegression()\n",
    "lr.fit(X_train_scaled, y_train)"
   ]
  },
  {
   "cell_type": "code",
   "execution_count": 25,
   "metadata": {
    "colab": {
     "base_uri": "https://localhost:8080/"
    },
    "executionInfo": {
     "elapsed": 208,
     "status": "ok",
     "timestamp": 1699384659613,
     "user": {
      "displayName": "Alibek Kruglikov",
      "userId": "12107629968185180200"
     },
     "user_tz": 300
    },
    "id": "CNxu5zwLvoR7",
    "outputId": "8fbac453-2956-4353-b3ee-8e01d0505f47"
   },
   "outputs": [
    {
     "data": {
      "text/plain": [
       "array([6.4249594 , 2.09152413])"
      ]
     },
     "execution_count": 25,
     "metadata": {},
     "output_type": "execute_result"
    }
   ],
   "source": [
    "lr_coeffs = lr.coef_\n",
    "lr_coeffs"
   ]
  },
  {
   "cell_type": "code",
   "execution_count": 26,
   "metadata": {
    "colab": {
     "base_uri": "https://localhost:8080/"
    },
    "executionInfo": {
     "elapsed": 9,
     "status": "ok",
     "timestamp": 1699384705018,
     "user": {
      "displayName": "Alibek Kruglikov",
      "userId": "12107629968185180200"
     },
     "user_tz": 300
    },
    "id": "JMsqG4FBvoR7",
    "outputId": "cce59503-9392-44b8-d87d-466ff6898198"
   },
   "outputs": [
    {
     "data": {
      "text/plain": [
       "np.float64(17.36193221782039)"
      ]
     },
     "execution_count": 26,
     "metadata": {},
     "output_type": "execute_result"
    }
   ],
   "source": [
    "lr_intercept = lr.intercept_\n",
    "lr_intercept"
   ]
  },
  {
   "cell_type": "code",
   "execution_count": 27,
   "metadata": {
    "colab": {
     "base_uri": "https://localhost:8080/",
     "height": 300
    },
    "executionInfo": {
     "elapsed": 231,
     "status": "ok",
     "timestamp": 1699384711263,
     "user": {
      "displayName": "Alibek Kruglikov",
      "userId": "12107629968185180200"
     },
     "user_tz": 300
    },
    "id": "8T4GglWRvoR8",
    "outputId": "3f33c4d9-6eb1-42a2-e7c8-c469976bdc49"
   },
   "outputs": [
    {
     "data": {
      "text/html": [
       "<div>\n",
       "<style scoped>\n",
       "    .dataframe tbody tr th:only-of-type {\n",
       "        vertical-align: middle;\n",
       "    }\n",
       "\n",
       "    .dataframe tbody tr th {\n",
       "        vertical-align: top;\n",
       "    }\n",
       "\n",
       "    .dataframe thead th {\n",
       "        text-align: right;\n",
       "    }\n",
       "</style>\n",
       "<table border=\"1\" class=\"dataframe\">\n",
       "  <thead>\n",
       "    <tr style=\"text-align: right;\">\n",
       "      <th></th>\n",
       "      <th>Coefficients</th>\n",
       "    </tr>\n",
       "  </thead>\n",
       "  <tbody>\n",
       "    <tr>\n",
       "      <th>Coffee_Cups</th>\n",
       "      <td>6.424959</td>\n",
       "    </tr>\n",
       "    <tr>\n",
       "      <th>Hours_Sleep</th>\n",
       "      <td>2.091524</td>\n",
       "    </tr>\n",
       "  </tbody>\n",
       "</table>\n",
       "</div>"
      ],
      "text/plain": [
       "             Coefficients\n",
       "Coffee_Cups      6.424959\n",
       "Hours_Sleep      2.091524"
      ]
     },
     "execution_count": 27,
     "metadata": {},
     "output_type": "execute_result"
    }
   ],
   "source": [
    "words_coeffs_df = pd.DataFrame(data = lr_coeffs.T, index = X_train.columns, columns=['Coefficients'])\n",
    "words_coeffs_df"
   ]
  },
  {
   "cell_type": "markdown",
   "metadata": {},
   "source": [
    "##### Why did we scale?\n",
    "\n",
    "Sometimes variables are not really comparable. Scaling, allows us to put them in the same range. This allows us to be able to interpret the **coefficients** properly.\n",
    "\n",
    "For interpreting linear models:\n",
    "\n",
    "* if the coefficient is `+`, then if the feature value goes **UP** the predicted value goes **UP**\n",
    "* if the coefficient is `-`, then if the feature values goes **UP** the predicted value goes **DOWN**\n",
    "* if the coefficient is `0`, the feature is **not used** in making a prediction."
   ]
  },
  {
   "cell_type": "markdown",
   "metadata": {},
   "source": [
    "##### Prediction\n",
    "\n",
    "$$\\hat{y} = w_1x_1 + w_2x_2 + ... + w_8x_8 + b$$"
   ]
  },
  {
   "cell_type": "code",
   "execution_count": 28,
   "metadata": {},
   "outputs": [
    {
     "data": {
      "text/plain": [
       "array([15.53617259, 20.72490379, 28.2837986 , 10.5896231 , 27.82100943])"
      ]
     },
     "execution_count": 28,
     "metadata": {},
     "output_type": "execute_result"
    }
   ],
   "source": [
    "lr.predict(X_train_scaled)[:5]"
   ]
  },
  {
   "cell_type": "code",
   "execution_count": 29,
   "metadata": {},
   "outputs": [
    {
     "data": {
      "text/plain": [
       "array([17.23753722, 28.37399184, 22.42152222, 26.65615455, 13.31313734])"
      ]
     },
     "execution_count": 29,
     "metadata": {},
     "output_type": "execute_result"
    }
   ],
   "source": [
    "lr.predict(X_test_scaled)[:5]"
   ]
  },
  {
   "cell_type": "code",
   "execution_count": 30,
   "metadata": {},
   "outputs": [
    {
     "data": {
      "text/plain": [
       "np.float64(17.237537221177554)"
      ]
     },
     "execution_count": 30,
     "metadata": {},
     "output_type": "execute_result"
    }
   ],
   "source": [
    "lr.intercept_ + (lr.coef_[0] * X_test_scaled[0][0]) + (lr.coef_[1] * X_test_scaled[0][1])"
   ]
  },
  {
   "cell_type": "code",
   "execution_count": 31,
   "metadata": {},
   "outputs": [
    {
     "data": {
      "text/plain": [
       "0.9192148183081769"
      ]
     },
     "execution_count": 31,
     "metadata": {},
     "output_type": "execute_result"
    }
   ],
   "source": [
    "lr.score(X_train_scaled, y_train)"
   ]
  },
  {
   "cell_type": "code",
   "execution_count": 32,
   "metadata": {},
   "outputs": [
    {
     "data": {
      "text/plain": [
       "0.9321424686508619"
      ]
     },
     "execution_count": 32,
     "metadata": {},
     "output_type": "execute_result"
    }
   ],
   "source": [
    "lr.score(X_test_scaled, y_test)"
   ]
  },
  {
   "cell_type": "markdown",
   "metadata": {
    "id": "5ksP1nZpvoR8"
   },
   "source": [
    "## Linear Regression with `statsmodels`"
   ]
  },
  {
   "cell_type": "code",
   "execution_count": 33,
   "metadata": {
    "executionInfo": {
     "elapsed": 240,
     "status": "ok",
     "timestamp": 1699384757877,
     "user": {
      "displayName": "Alibek Kruglikov",
      "userId": "12107629968185180200"
     },
     "user_tz": 300
    },
    "id": "NgJ0hBdxvoR8"
   },
   "outputs": [],
   "source": [
    "import statsmodels.api as sm\n",
    "\n",
    "model = sm.OLS(y_train, sm.add_constant(X_train_scaled))\n",
    "results = model.fit()"
   ]
  },
  {
   "cell_type": "code",
   "execution_count": 34,
   "metadata": {
    "colab": {
     "base_uri": "https://localhost:8080/"
    },
    "executionInfo": {
     "elapsed": 7,
     "status": "ok",
     "timestamp": 1699384760021,
     "user": {
      "displayName": "Alibek Kruglikov",
      "userId": "12107629968185180200"
     },
     "user_tz": 300
    },
    "id": "7Z-KDctYvoR8",
    "outputId": "2e682da5-6f66-4981-cca7-eeed78209cfd"
   },
   "outputs": [
    {
     "data": {
      "text/plain": [
       "array([17.36193222,  6.4249594 ,  2.09152413])"
      ]
     },
     "execution_count": 34,
     "metadata": {},
     "output_type": "execute_result"
    }
   ],
   "source": [
    "results.params"
   ]
  },
  {
   "cell_type": "code",
   "execution_count": 35,
   "metadata": {
    "colab": {
     "base_uri": "https://localhost:8080/"
    },
    "executionInfo": {
     "elapsed": 9,
     "status": "ok",
     "timestamp": 1699384806148,
     "user": {
      "displayName": "Alibek Kruglikov",
      "userId": "12107629968185180200"
     },
     "user_tz": 300
    },
    "id": "zBVOxNIPvoR8",
    "outputId": "97b83160-0ed5-4c19-ddc3-88a4fbdb4d7d"
   },
   "outputs": [
    {
     "name": "stdout",
     "output_type": "stream",
     "text": [
      "                            OLS Regression Results                            \n",
      "==============================================================================\n",
      "Dep. Variable:                      y   R-squared:                       0.919\n",
      "Model:                            OLS   Adj. R-squared:                  0.919\n",
      "Method:                 Least Squares   F-statistic:                     4534.\n",
      "Date:                Tue, 22 Oct 2024   Prob (F-statistic):               0.00\n",
      "Time:                        13:45:08   Log-Likelihood:                -1690.1\n",
      "No. Observations:                 800   AIC:                             3386.\n",
      "Df Residuals:                     797   BIC:                             3400.\n",
      "Df Model:                           2                                         \n",
      "Covariance Type:            nonrobust                                         \n",
      "==============================================================================\n",
      "                 coef    std err          t      P>|t|      [0.025      0.975]\n",
      "------------------------------------------------------------------------------\n",
      "const         17.3619      0.071    244.930      0.000      17.223      17.501\n",
      "x1             6.4250      0.071     90.638      0.000       6.286       6.564\n",
      "x2             2.0915      0.071     29.506      0.000       1.952       2.231\n",
      "==============================================================================\n",
      "Omnibus:                        0.145   Durbin-Watson:                   2.019\n",
      "Prob(Omnibus):                  0.930   Jarque-Bera (JB):                0.143\n",
      "Skew:                           0.032   Prob(JB):                        0.931\n",
      "Kurtosis:                       2.989   Cond. No.                         1.00\n",
      "==============================================================================\n",
      "\n",
      "Notes:\n",
      "[1] Standard Errors assume that the covariance matrix of the errors is correctly specified.\n"
     ]
    }
   ],
   "source": [
    "print(results.summary())"
   ]
  },
  {
   "cell_type": "markdown",
   "metadata": {
    "id": "D5yxh432voR-"
   },
   "source": [
    "#### Score interpretation\n",
    "\n",
    "- **R-squared** measures the proportion of the variation in your dependent variable (Y) explained by your independent variables (X) for a linear regression model\n",
    "\n",
    "- **Adjusted R-squared** adjusts the statistic based on the number of independent variables in the model"
   ]
  },
  {
   "cell_type": "markdown",
   "metadata": {
    "id": "ymoTkC0LvoR-"
   },
   "source": [
    "* $R^2$ is a measure of fit.  \n",
    "  \n",
    "* It indicates how much variation of a dependent variable is explained by the independent variables.\n",
    "  \n",
    "* An R-squared of 100% means that $y$ is completely explained by the independent variables."
   ]
  },
  {
   "cell_type": "markdown",
   "metadata": {
    "id": "6KUYZ1HZvoR-"
   },
   "source": [
    "$R^2 = 1 - \\frac{Unexplained\\:Variation}{Total\\:Variation}$"
   ]
  },
  {
   "cell_type": "markdown",
   "metadata": {
    "id": "u4DXwkz1voR-"
   },
   "source": [
    "$R^2 = 1 - \\frac{RSS}{TSS}$\n",
    "\n",
    "$R^2\t=\t$   coefficient of determination    \n",
    "$RSS\t=\t$  sum of squares of residuals $ =\\displaystyle\\sum_{i=1}^{n}(y_{i}-{\\hat{y}_{i}})^{2}$   \n",
    "$TSS\t=\t$   total sum of squares $ = \\displaystyle\\sum_{i=1}^{n}(y_{i}-\\bar{y})^{2}$  \n",
    "$\\bar{y}$ = mean value"
   ]
  },
  {
   "cell_type": "markdown",
   "metadata": {
    "id": "lTExmifgvoR-"
   },
   "source": [
    "**Thus**,\n",
    "\n",
    "$\n",
    "R^2 = 1 - \\frac{\\displaystyle\\sum_{i=1}^{n}(y_{i}-{\\hat{y}_{i}})^{2}}{\\displaystyle\\sum_{i=1}^{n}(y_{i}-\\bar{y})^{2}}\n",
    "$"
   ]
  },
  {
   "cell_type": "markdown",
   "metadata": {
    "id": "xkOf8lq-voR-"
   },
   "source": [
    "### Going beyond linear regression: Polynomial regression\n",
    "\n",
    "- **Linear regression** assumes a straight-line relationship between the variables.\n",
    "- But what if the true relationship between the target (e.g., **productivity**) and the features (**coffee cups** and **hours of sleep**) is **non-linear**?\n",
    "- Linear models can be limiting when the data follows a curve or more complex pattern.\n",
    "\n",
    "#### Sarah's Coffee-Sleep-Productivity Example Revisited\n",
    "\n",
    "- Sarah noticed that both **coffee** and **sleep** influence her team's productivity.\n",
    "- However, as she collects more data, she realizes that **productivity doesn't increase linearly** with coffee or sleep.\n",
    "- After a certain number of coffee cups, the productivity boost slows down.\n",
    "- Too much or too little sleep seems to hurt productivity in a non-linear way."
   ]
  },
  {
   "cell_type": "markdown",
   "metadata": {},
   "source": [
    "#### What is Polynomial Regression?\n",
    "- Polynomial regression extends linear regression by creating **quadratic, cubic, and higher-order terms**.\n",
    "- We still use the **linear regression framework**, but we model more complex relationships by transforming the features.\n",
    "\n",
    "#### Example:\n",
    "- Instead of using just `Coffee_Cups`, we also use `Coffee_Cups^2`, `Coffee_Cups^3`, etc., to capture non-linear effects."
   ]
  },
  {
   "cell_type": "markdown",
   "metadata": {},
   "source": [
    "#### How Polynomial Regression Works:\n",
    "- In addition to the original feature (`Coffee_Cups`), we create new features:\n",
    "    - `Coffee_Cups^2`\n",
    "    - `Coffee_Cups^3`\n",
    "  \n",
    "- These terms allow us to capture **curves** and more complex patterns.\n",
    "  \n",
    "- Our new model might look like:\n",
    "    $$ \\hat{y} = \\beta_0 + \\beta_1 x + \\beta_2 x^2 + \\beta_3 x^3 $$\n",
    "  \n",
    "- **Key Takeaway**: We can still use the linear regression framework by **transforming** our features into polynomial terms!\n"
   ]
  },
  {
   "cell_type": "code",
   "execution_count": 36,
   "metadata": {
    "id": "UlqZ9vjevoR_"
   },
   "outputs": [],
   "source": [
    "from sklearn.preprocessing import PolynomialFeatures"
   ]
  },
  {
   "cell_type": "code",
   "execution_count": 37,
   "metadata": {},
   "outputs": [
    {
     "data": {
      "text/html": [
       "<div>\n",
       "<style scoped>\n",
       "    .dataframe tbody tr th:only-of-type {\n",
       "        vertical-align: middle;\n",
       "    }\n",
       "\n",
       "    .dataframe tbody tr th {\n",
       "        vertical-align: top;\n",
       "    }\n",
       "\n",
       "    .dataframe thead th {\n",
       "        text-align: right;\n",
       "    }\n",
       "</style>\n",
       "<table border=\"1\" class=\"dataframe\">\n",
       "  <thead>\n",
       "    <tr style=\"text-align: right;\">\n",
       "      <th></th>\n",
       "      <th>Coffee_Cups</th>\n",
       "      <th>Hours_Sleep</th>\n",
       "      <th>Productivity</th>\n",
       "    </tr>\n",
       "  </thead>\n",
       "  <tbody>\n",
       "    <tr>\n",
       "      <th>0</th>\n",
       "      <td>3</td>\n",
       "      <td>9.055615</td>\n",
       "      <td>11.421316</td>\n",
       "    </tr>\n",
       "    <tr>\n",
       "      <th>1</th>\n",
       "      <td>2</td>\n",
       "      <td>9.144187</td>\n",
       "      <td>6.674547</td>\n",
       "    </tr>\n",
       "  </tbody>\n",
       "</table>\n",
       "</div>"
      ],
      "text/plain": [
       "   Coffee_Cups  Hours_Sleep  Productivity\n",
       "0            3     9.055615     11.421316\n",
       "1            2     9.144187      6.674547"
      ]
     },
     "execution_count": 37,
     "metadata": {},
     "output_type": "execute_result"
    }
   ],
   "source": [
    "df = pd.read_csv('data/non_linear_coffee_productivity.csv')\n",
    "df.head(2)"
   ]
  },
  {
   "cell_type": "code",
   "execution_count": 38,
   "metadata": {},
   "outputs": [],
   "source": [
    "X = df.drop(columns=['Productivity'])\n",
    "y = df['Productivity']"
   ]
  },
  {
   "cell_type": "code",
   "execution_count": 39,
   "metadata": {},
   "outputs": [],
   "source": [
    "X_train, X_test, y_train, y_test = train_test_split(X, y, test_size=0.2, random_state=42)"
   ]
  },
  {
   "cell_type": "code",
   "execution_count": 40,
   "metadata": {
    "scrolled": true
   },
   "outputs": [
    {
     "data": {
      "text/html": [
       "<style>#sk-container-id-3 {\n",
       "  /* Definition of color scheme common for light and dark mode */\n",
       "  --sklearn-color-text: black;\n",
       "  --sklearn-color-line: gray;\n",
       "  /* Definition of color scheme for unfitted estimators */\n",
       "  --sklearn-color-unfitted-level-0: #fff5e6;\n",
       "  --sklearn-color-unfitted-level-1: #f6e4d2;\n",
       "  --sklearn-color-unfitted-level-2: #ffe0b3;\n",
       "  --sklearn-color-unfitted-level-3: chocolate;\n",
       "  /* Definition of color scheme for fitted estimators */\n",
       "  --sklearn-color-fitted-level-0: #f0f8ff;\n",
       "  --sklearn-color-fitted-level-1: #d4ebff;\n",
       "  --sklearn-color-fitted-level-2: #b3dbfd;\n",
       "  --sklearn-color-fitted-level-3: cornflowerblue;\n",
       "\n",
       "  /* Specific color for light theme */\n",
       "  --sklearn-color-text-on-default-background: var(--sg-text-color, var(--theme-code-foreground, var(--jp-content-font-color1, black)));\n",
       "  --sklearn-color-background: var(--sg-background-color, var(--theme-background, var(--jp-layout-color0, white)));\n",
       "  --sklearn-color-border-box: var(--sg-text-color, var(--theme-code-foreground, var(--jp-content-font-color1, black)));\n",
       "  --sklearn-color-icon: #696969;\n",
       "\n",
       "  @media (prefers-color-scheme: dark) {\n",
       "    /* Redefinition of color scheme for dark theme */\n",
       "    --sklearn-color-text-on-default-background: var(--sg-text-color, var(--theme-code-foreground, var(--jp-content-font-color1, white)));\n",
       "    --sklearn-color-background: var(--sg-background-color, var(--theme-background, var(--jp-layout-color0, #111)));\n",
       "    --sklearn-color-border-box: var(--sg-text-color, var(--theme-code-foreground, var(--jp-content-font-color1, white)));\n",
       "    --sklearn-color-icon: #878787;\n",
       "  }\n",
       "}\n",
       "\n",
       "#sk-container-id-3 {\n",
       "  color: var(--sklearn-color-text);\n",
       "}\n",
       "\n",
       "#sk-container-id-3 pre {\n",
       "  padding: 0;\n",
       "}\n",
       "\n",
       "#sk-container-id-3 input.sk-hidden--visually {\n",
       "  border: 0;\n",
       "  clip: rect(1px 1px 1px 1px);\n",
       "  clip: rect(1px, 1px, 1px, 1px);\n",
       "  height: 1px;\n",
       "  margin: -1px;\n",
       "  overflow: hidden;\n",
       "  padding: 0;\n",
       "  position: absolute;\n",
       "  width: 1px;\n",
       "}\n",
       "\n",
       "#sk-container-id-3 div.sk-dashed-wrapped {\n",
       "  border: 1px dashed var(--sklearn-color-line);\n",
       "  margin: 0 0.4em 0.5em 0.4em;\n",
       "  box-sizing: border-box;\n",
       "  padding-bottom: 0.4em;\n",
       "  background-color: var(--sklearn-color-background);\n",
       "}\n",
       "\n",
       "#sk-container-id-3 div.sk-container {\n",
       "  /* jupyter's `normalize.less` sets `[hidden] { display: none; }`\n",
       "     but bootstrap.min.css set `[hidden] { display: none !important; }`\n",
       "     so we also need the `!important` here to be able to override the\n",
       "     default hidden behavior on the sphinx rendered scikit-learn.org.\n",
       "     See: https://github.com/scikit-learn/scikit-learn/issues/21755 */\n",
       "  display: inline-block !important;\n",
       "  position: relative;\n",
       "}\n",
       "\n",
       "#sk-container-id-3 div.sk-text-repr-fallback {\n",
       "  display: none;\n",
       "}\n",
       "\n",
       "div.sk-parallel-item,\n",
       "div.sk-serial,\n",
       "div.sk-item {\n",
       "  /* draw centered vertical line to link estimators */\n",
       "  background-image: linear-gradient(var(--sklearn-color-text-on-default-background), var(--sklearn-color-text-on-default-background));\n",
       "  background-size: 2px 100%;\n",
       "  background-repeat: no-repeat;\n",
       "  background-position: center center;\n",
       "}\n",
       "\n",
       "/* Parallel-specific style estimator block */\n",
       "\n",
       "#sk-container-id-3 div.sk-parallel-item::after {\n",
       "  content: \"\";\n",
       "  width: 100%;\n",
       "  border-bottom: 2px solid var(--sklearn-color-text-on-default-background);\n",
       "  flex-grow: 1;\n",
       "}\n",
       "\n",
       "#sk-container-id-3 div.sk-parallel {\n",
       "  display: flex;\n",
       "  align-items: stretch;\n",
       "  justify-content: center;\n",
       "  background-color: var(--sklearn-color-background);\n",
       "  position: relative;\n",
       "}\n",
       "\n",
       "#sk-container-id-3 div.sk-parallel-item {\n",
       "  display: flex;\n",
       "  flex-direction: column;\n",
       "}\n",
       "\n",
       "#sk-container-id-3 div.sk-parallel-item:first-child::after {\n",
       "  align-self: flex-end;\n",
       "  width: 50%;\n",
       "}\n",
       "\n",
       "#sk-container-id-3 div.sk-parallel-item:last-child::after {\n",
       "  align-self: flex-start;\n",
       "  width: 50%;\n",
       "}\n",
       "\n",
       "#sk-container-id-3 div.sk-parallel-item:only-child::after {\n",
       "  width: 0;\n",
       "}\n",
       "\n",
       "/* Serial-specific style estimator block */\n",
       "\n",
       "#sk-container-id-3 div.sk-serial {\n",
       "  display: flex;\n",
       "  flex-direction: column;\n",
       "  align-items: center;\n",
       "  background-color: var(--sklearn-color-background);\n",
       "  padding-right: 1em;\n",
       "  padding-left: 1em;\n",
       "}\n",
       "\n",
       "\n",
       "/* Toggleable style: style used for estimator/Pipeline/ColumnTransformer box that is\n",
       "clickable and can be expanded/collapsed.\n",
       "- Pipeline and ColumnTransformer use this feature and define the default style\n",
       "- Estimators will overwrite some part of the style using the `sk-estimator` class\n",
       "*/\n",
       "\n",
       "/* Pipeline and ColumnTransformer style (default) */\n",
       "\n",
       "#sk-container-id-3 div.sk-toggleable {\n",
       "  /* Default theme specific background. It is overwritten whether we have a\n",
       "  specific estimator or a Pipeline/ColumnTransformer */\n",
       "  background-color: var(--sklearn-color-background);\n",
       "}\n",
       "\n",
       "/* Toggleable label */\n",
       "#sk-container-id-3 label.sk-toggleable__label {\n",
       "  cursor: pointer;\n",
       "  display: block;\n",
       "  width: 100%;\n",
       "  margin-bottom: 0;\n",
       "  padding: 0.5em;\n",
       "  box-sizing: border-box;\n",
       "  text-align: center;\n",
       "}\n",
       "\n",
       "#sk-container-id-3 label.sk-toggleable__label-arrow:before {\n",
       "  /* Arrow on the left of the label */\n",
       "  content: \"▸\";\n",
       "  float: left;\n",
       "  margin-right: 0.25em;\n",
       "  color: var(--sklearn-color-icon);\n",
       "}\n",
       "\n",
       "#sk-container-id-3 label.sk-toggleable__label-arrow:hover:before {\n",
       "  color: var(--sklearn-color-text);\n",
       "}\n",
       "\n",
       "/* Toggleable content - dropdown */\n",
       "\n",
       "#sk-container-id-3 div.sk-toggleable__content {\n",
       "  max-height: 0;\n",
       "  max-width: 0;\n",
       "  overflow: hidden;\n",
       "  text-align: left;\n",
       "  /* unfitted */\n",
       "  background-color: var(--sklearn-color-unfitted-level-0);\n",
       "}\n",
       "\n",
       "#sk-container-id-3 div.sk-toggleable__content.fitted {\n",
       "  /* fitted */\n",
       "  background-color: var(--sklearn-color-fitted-level-0);\n",
       "}\n",
       "\n",
       "#sk-container-id-3 div.sk-toggleable__content pre {\n",
       "  margin: 0.2em;\n",
       "  border-radius: 0.25em;\n",
       "  color: var(--sklearn-color-text);\n",
       "  /* unfitted */\n",
       "  background-color: var(--sklearn-color-unfitted-level-0);\n",
       "}\n",
       "\n",
       "#sk-container-id-3 div.sk-toggleable__content.fitted pre {\n",
       "  /* unfitted */\n",
       "  background-color: var(--sklearn-color-fitted-level-0);\n",
       "}\n",
       "\n",
       "#sk-container-id-3 input.sk-toggleable__control:checked~div.sk-toggleable__content {\n",
       "  /* Expand drop-down */\n",
       "  max-height: 200px;\n",
       "  max-width: 100%;\n",
       "  overflow: auto;\n",
       "}\n",
       "\n",
       "#sk-container-id-3 input.sk-toggleable__control:checked~label.sk-toggleable__label-arrow:before {\n",
       "  content: \"▾\";\n",
       "}\n",
       "\n",
       "/* Pipeline/ColumnTransformer-specific style */\n",
       "\n",
       "#sk-container-id-3 div.sk-label input.sk-toggleable__control:checked~label.sk-toggleable__label {\n",
       "  color: var(--sklearn-color-text);\n",
       "  background-color: var(--sklearn-color-unfitted-level-2);\n",
       "}\n",
       "\n",
       "#sk-container-id-3 div.sk-label.fitted input.sk-toggleable__control:checked~label.sk-toggleable__label {\n",
       "  background-color: var(--sklearn-color-fitted-level-2);\n",
       "}\n",
       "\n",
       "/* Estimator-specific style */\n",
       "\n",
       "/* Colorize estimator box */\n",
       "#sk-container-id-3 div.sk-estimator input.sk-toggleable__control:checked~label.sk-toggleable__label {\n",
       "  /* unfitted */\n",
       "  background-color: var(--sklearn-color-unfitted-level-2);\n",
       "}\n",
       "\n",
       "#sk-container-id-3 div.sk-estimator.fitted input.sk-toggleable__control:checked~label.sk-toggleable__label {\n",
       "  /* fitted */\n",
       "  background-color: var(--sklearn-color-fitted-level-2);\n",
       "}\n",
       "\n",
       "#sk-container-id-3 div.sk-label label.sk-toggleable__label,\n",
       "#sk-container-id-3 div.sk-label label {\n",
       "  /* The background is the default theme color */\n",
       "  color: var(--sklearn-color-text-on-default-background);\n",
       "}\n",
       "\n",
       "/* On hover, darken the color of the background */\n",
       "#sk-container-id-3 div.sk-label:hover label.sk-toggleable__label {\n",
       "  color: var(--sklearn-color-text);\n",
       "  background-color: var(--sklearn-color-unfitted-level-2);\n",
       "}\n",
       "\n",
       "/* Label box, darken color on hover, fitted */\n",
       "#sk-container-id-3 div.sk-label.fitted:hover label.sk-toggleable__label.fitted {\n",
       "  color: var(--sklearn-color-text);\n",
       "  background-color: var(--sklearn-color-fitted-level-2);\n",
       "}\n",
       "\n",
       "/* Estimator label */\n",
       "\n",
       "#sk-container-id-3 div.sk-label label {\n",
       "  font-family: monospace;\n",
       "  font-weight: bold;\n",
       "  display: inline-block;\n",
       "  line-height: 1.2em;\n",
       "}\n",
       "\n",
       "#sk-container-id-3 div.sk-label-container {\n",
       "  text-align: center;\n",
       "}\n",
       "\n",
       "/* Estimator-specific */\n",
       "#sk-container-id-3 div.sk-estimator {\n",
       "  font-family: monospace;\n",
       "  border: 1px dotted var(--sklearn-color-border-box);\n",
       "  border-radius: 0.25em;\n",
       "  box-sizing: border-box;\n",
       "  margin-bottom: 0.5em;\n",
       "  /* unfitted */\n",
       "  background-color: var(--sklearn-color-unfitted-level-0);\n",
       "}\n",
       "\n",
       "#sk-container-id-3 div.sk-estimator.fitted {\n",
       "  /* fitted */\n",
       "  background-color: var(--sklearn-color-fitted-level-0);\n",
       "}\n",
       "\n",
       "/* on hover */\n",
       "#sk-container-id-3 div.sk-estimator:hover {\n",
       "  /* unfitted */\n",
       "  background-color: var(--sklearn-color-unfitted-level-2);\n",
       "}\n",
       "\n",
       "#sk-container-id-3 div.sk-estimator.fitted:hover {\n",
       "  /* fitted */\n",
       "  background-color: var(--sklearn-color-fitted-level-2);\n",
       "}\n",
       "\n",
       "/* Specification for estimator info (e.g. \"i\" and \"?\") */\n",
       "\n",
       "/* Common style for \"i\" and \"?\" */\n",
       "\n",
       ".sk-estimator-doc-link,\n",
       "a:link.sk-estimator-doc-link,\n",
       "a:visited.sk-estimator-doc-link {\n",
       "  float: right;\n",
       "  font-size: smaller;\n",
       "  line-height: 1em;\n",
       "  font-family: monospace;\n",
       "  background-color: var(--sklearn-color-background);\n",
       "  border-radius: 1em;\n",
       "  height: 1em;\n",
       "  width: 1em;\n",
       "  text-decoration: none !important;\n",
       "  margin-left: 1ex;\n",
       "  /* unfitted */\n",
       "  border: var(--sklearn-color-unfitted-level-1) 1pt solid;\n",
       "  color: var(--sklearn-color-unfitted-level-1);\n",
       "}\n",
       "\n",
       ".sk-estimator-doc-link.fitted,\n",
       "a:link.sk-estimator-doc-link.fitted,\n",
       "a:visited.sk-estimator-doc-link.fitted {\n",
       "  /* fitted */\n",
       "  border: var(--sklearn-color-fitted-level-1) 1pt solid;\n",
       "  color: var(--sklearn-color-fitted-level-1);\n",
       "}\n",
       "\n",
       "/* On hover */\n",
       "div.sk-estimator:hover .sk-estimator-doc-link:hover,\n",
       ".sk-estimator-doc-link:hover,\n",
       "div.sk-label-container:hover .sk-estimator-doc-link:hover,\n",
       ".sk-estimator-doc-link:hover {\n",
       "  /* unfitted */\n",
       "  background-color: var(--sklearn-color-unfitted-level-3);\n",
       "  color: var(--sklearn-color-background);\n",
       "  text-decoration: none;\n",
       "}\n",
       "\n",
       "div.sk-estimator.fitted:hover .sk-estimator-doc-link.fitted:hover,\n",
       ".sk-estimator-doc-link.fitted:hover,\n",
       "div.sk-label-container:hover .sk-estimator-doc-link.fitted:hover,\n",
       ".sk-estimator-doc-link.fitted:hover {\n",
       "  /* fitted */\n",
       "  background-color: var(--sklearn-color-fitted-level-3);\n",
       "  color: var(--sklearn-color-background);\n",
       "  text-decoration: none;\n",
       "}\n",
       "\n",
       "/* Span, style for the box shown on hovering the info icon */\n",
       ".sk-estimator-doc-link span {\n",
       "  display: none;\n",
       "  z-index: 9999;\n",
       "  position: relative;\n",
       "  font-weight: normal;\n",
       "  right: .2ex;\n",
       "  padding: .5ex;\n",
       "  margin: .5ex;\n",
       "  width: min-content;\n",
       "  min-width: 20ex;\n",
       "  max-width: 50ex;\n",
       "  color: var(--sklearn-color-text);\n",
       "  box-shadow: 2pt 2pt 4pt #999;\n",
       "  /* unfitted */\n",
       "  background: var(--sklearn-color-unfitted-level-0);\n",
       "  border: .5pt solid var(--sklearn-color-unfitted-level-3);\n",
       "}\n",
       "\n",
       ".sk-estimator-doc-link.fitted span {\n",
       "  /* fitted */\n",
       "  background: var(--sklearn-color-fitted-level-0);\n",
       "  border: var(--sklearn-color-fitted-level-3);\n",
       "}\n",
       "\n",
       ".sk-estimator-doc-link:hover span {\n",
       "  display: block;\n",
       "}\n",
       "\n",
       "/* \"?\"-specific style due to the `<a>` HTML tag */\n",
       "\n",
       "#sk-container-id-3 a.estimator_doc_link {\n",
       "  float: right;\n",
       "  font-size: 1rem;\n",
       "  line-height: 1em;\n",
       "  font-family: monospace;\n",
       "  background-color: var(--sklearn-color-background);\n",
       "  border-radius: 1rem;\n",
       "  height: 1rem;\n",
       "  width: 1rem;\n",
       "  text-decoration: none;\n",
       "  /* unfitted */\n",
       "  color: var(--sklearn-color-unfitted-level-1);\n",
       "  border: var(--sklearn-color-unfitted-level-1) 1pt solid;\n",
       "}\n",
       "\n",
       "#sk-container-id-3 a.estimator_doc_link.fitted {\n",
       "  /* fitted */\n",
       "  border: var(--sklearn-color-fitted-level-1) 1pt solid;\n",
       "  color: var(--sklearn-color-fitted-level-1);\n",
       "}\n",
       "\n",
       "/* On hover */\n",
       "#sk-container-id-3 a.estimator_doc_link:hover {\n",
       "  /* unfitted */\n",
       "  background-color: var(--sklearn-color-unfitted-level-3);\n",
       "  color: var(--sklearn-color-background);\n",
       "  text-decoration: none;\n",
       "}\n",
       "\n",
       "#sk-container-id-3 a.estimator_doc_link.fitted:hover {\n",
       "  /* fitted */\n",
       "  background-color: var(--sklearn-color-fitted-level-3);\n",
       "}\n",
       "</style><div id=\"sk-container-id-3\" class=\"sk-top-container\"><div class=\"sk-text-repr-fallback\"><pre>LinearRegression()</pre><b>In a Jupyter environment, please rerun this cell to show the HTML representation or trust the notebook. <br />On GitHub, the HTML representation is unable to render, please try loading this page with nbviewer.org.</b></div><div class=\"sk-container\" hidden><div class=\"sk-item\"><div class=\"sk-estimator fitted sk-toggleable\"><input class=\"sk-toggleable__control sk-hidden--visually\" id=\"sk-estimator-id-3\" type=\"checkbox\" checked><label for=\"sk-estimator-id-3\" class=\"sk-toggleable__label fitted sk-toggleable__label-arrow fitted\">&nbsp;&nbsp;LinearRegression<a class=\"sk-estimator-doc-link fitted\" rel=\"noreferrer\" target=\"_blank\" href=\"https://scikit-learn.org/1.5/modules/generated/sklearn.linear_model.LinearRegression.html\">?<span>Documentation for LinearRegression</span></a><span class=\"sk-estimator-doc-link fitted\">i<span>Fitted</span></span></label><div class=\"sk-toggleable__content fitted\"><pre>LinearRegression()</pre></div> </div></div></div></div>"
      ],
      "text/plain": [
       "LinearRegression()"
      ]
     },
     "execution_count": 40,
     "metadata": {},
     "output_type": "execute_result"
    }
   ],
   "source": [
    "# Create polynomial features (degree 2)\n",
    "poly = PolynomialFeatures(degree=2)\n",
    "X_poly_train = poly.fit_transform(X_train)\n",
    "\n",
    "# Fit the polynomial regression model\n",
    "model = LinearRegression()\n",
    "model.fit(X_poly_train, y_train)"
   ]
  },
  {
   "cell_type": "code",
   "execution_count": 41,
   "metadata": {},
   "outputs": [],
   "source": [
    "y_pred = model.predict(X_poly_train)"
   ]
  },
  {
   "cell_type": "code",
   "execution_count": 42,
   "metadata": {},
   "outputs": [
    {
     "data": {
      "image/png": "[encoded data removed]",
      "text/plain": [
       "<Figure size 640x480 with 1 Axes>"
      ]
     },
     "metadata": {},
     "output_type": "display_data"
    }
   ],
   "source": [
    "# We'll plot only the actual vs predicted productivity\n",
    "plt.scatter(y_train, y_pred, color='blue', label='Predicted vs Actual')\n",
    "plt.plot([min(y_train), max(y_train)], [min(y_train), max(y_train)], color='red', linestyle='--', label='Perfect Fit Line')\n",
    "plt.xlabel('Actual Productivity (completed tasks)')\n",
    "plt.ylabel('Predicted Productivity (completed tasks)')\n",
    "plt.title('Polynomial Regression: Coffee, Sleep vs. Productivity')\n",
    "plt.legend()\n",
    "plt.show()"
   ]
  },
  {
   "cell_type": "code",
   "execution_count": 43,
   "metadata": {},
   "outputs": [
    {
     "data": {
      "text/html": [
       "<iframe\n",
       "    scrolling=\"no\"\n",
       "    width=\"100%\"\n",
       "    height=\"545px\"\n",
       "    src=\"iframe_figures/figure_43.html\"\n",
       "    frameborder=\"0\"\n",
       "    allowfullscreen\n",
       "></iframe>\n"
      ]
     },
     "metadata": {},
     "output_type": "display_data"
    }
   ],
   "source": [
    "import plotly.graph_objects as go\n",
    "import plotly.io as pio\n",
    "pio.renderers.default = 'iframe'\n",
    "\n",
    "scatter = go.Scatter3d(\n",
    "    x=X_train['Coffee_Cups'], \n",
    "    y=X_train['Hours_Sleep'], \n",
    "    z=y_train,\n",
    "    mode='markers',\n",
    "    marker=dict(size=5, color='blue', opacity=0.8),\n",
    "    name='Data'\n",
    ")\n",
    "\n",
    "surface = go.Mesh3d(\n",
    "    x=X_train['Coffee_Cups'],\n",
    "    y=X_train['Hours_Sleep'],\n",
    "    z=y_pred,\n",
    "    opacity=0.6,\n",
    "    color='red',\n",
    "    name='Polynomial Fit'\n",
    ")\n",
    "\n",
    "layout = go.Layout(\n",
    "    title='Polynomial Regression: Coffee, Sleep vs. Productivity',\n",
    "    scene=dict(\n",
    "        xaxis_title='Cups of Coffee',\n",
    "        yaxis_title='Hours of Sleep',\n",
    "        zaxis_title='Productivity (completed tasks)',\n",
    "        aspectratio=dict(x=1, y=1, z=1)\n",
    "    )\n",
    ")\n",
    "\n",
    "fig = go.Figure(data=[scatter, surface], layout=layout)\n",
    "fig.show()"
   ]
  },
  {
   "cell_type": "markdown",
   "metadata": {
    "id": "iUa_DXJDvoR_"
   },
   "source": [
    "What `sklearn` does is - if you substitute $x^2$ as another variable such as `m`, then the equation now is:\n",
    "\n",
    "`y=w*m + b`  \n",
    "\n",
    "The relation between `y` and `m` is linear but it is not linear between `x` and `y`.\n",
    "\n",
    "Because of this \"technically\", it is linear regression just the variables between which it happens is $x^2$ (`m`) and `y` and not `x` and `y`."
   ]
  }
 ],
 "metadata": {
  "celltoolbar": "Slideshow",
  "colab": {
   "provenance": []
  },
  "kernelspec": {
   "display_name": ".venv",
   "language": "python",
   "name": ".venv"
  },
  "language_info": {
   "codemirror_mode": {
    "name": "ipython",
    "version": 3
   },
   "file_extension": ".py",
   "mimetype": "text/x-python",
   "name": "python",
   "nbconvert_exporter": "python",
   "pygments_lexer": "ipython3",
   "version": "3.11.10"
  }
 },
 "nbformat": 4,
 "nbformat_minor": 4
}
